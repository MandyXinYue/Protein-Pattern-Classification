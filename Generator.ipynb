{
 "cells": [
  {
   "cell_type": "markdown",
   "metadata": {},
   "source": [
    "# GPU"
   ]
  },
  {
   "cell_type": "code",
   "execution_count": 1,
   "metadata": {},
   "outputs": [],
   "source": [
    "import os\n",
    "os.environ[\"CUDA_DEVICE_ORDER\"] = \"PCI_BUS_ID\"\n",
    "os.environ[\"CUDA_VISIBLE_DEVICES\"] = \"2\""
   ]
  },
  {
   "cell_type": "code",
   "execution_count": 3,
   "metadata": {},
   "outputs": [],
   "source": [
    "#tf.config.list_physical_devices('GPU')"
   ]
  },
  {
   "cell_type": "code",
   "execution_count": 4,
   "metadata": {},
   "outputs": [],
   "source": [
    "#import os\n",
    "#os.environ[\"CUDA_VISIBLE_DEVICES\"]=\"7\"\n",
    "#tf_device='/gpu:0'"
   ]
  },
  {
   "cell_type": "code",
   "execution_count": 2,
   "metadata": {},
   "outputs": [],
   "source": [
    "import numpy as np\n",
    "import pandas as pd\n",
    "import operator\n",
    "import imageio\n",
    "import matplotlib.pyplot as plt\n",
    "import seaborn as sns\n",
    "import sys\n",
    "\n",
    "from PIL import Image\n",
    "\n",
    "from tensorflow.keras.preprocessing.image import ImageDataGenerator\n",
    "from tensorflow.keras.models import Sequential\n",
    "from tensorflow.keras.layers import Dense, Flatten, GlobalAveragePooling2D, BatchNormalization\n",
    "from tensorflow.keras.layers import Conv2D, MaxPool2D, Reshape, Input\n",
    "from tensorflow.keras.callbacks import ModelCheckpoint, TensorBoard\n",
    "\n",
    "from tensorflow.keras.applications.resnet50 import ResNet50, preprocess_input\n",
    "\n",
    "allow_growth = True"
   ]
  },
  {
   "cell_type": "code",
   "execution_count": 6,
   "metadata": {},
   "outputs": [],
   "source": [
    "#images path\n",
    "img_f_aug_path = \"../train_full_aug/\"\n",
    "img_f_path = \"../../data/segmented_train/\"\n",
    "\n",
    "img_u_aug_path = \"../../heather/augmented_train_unique/\"\n",
    "img_u_path = \"../../data/segmented_train_unique_labels/\"\n",
    "\n",
    "#full\n",
    "df_f_train = pd.read_csv(\"../CSVinput/df_f_train.csv\")\n",
    "df_f_val = pd.read_csv(\"../CSVinput/df_f_val.csv\")\n",
    "\n",
    "#unique\n",
    "df_u_train = pd.read_csv(\"../CSVinput/df_u_train.csv\")\n",
    "df_u_val = pd.read_csv(\"../CSVinput/df_u_val.csv\")"
   ]
  },
  {
   "cell_type": "code",
   "execution_count": null,
   "metadata": {},
   "outputs": [],
   "source": []
  },
  {
   "cell_type": "markdown",
   "metadata": {},
   "source": [
    "# Import data"
   ]
  },
  {
   "cell_type": "code",
   "execution_count": 5,
   "metadata": {},
   "outputs": [],
   "source": []
  },
  {
   "cell_type": "code",
   "execution_count": 7,
   "metadata": {},
   "outputs": [
    {
     "data": {
      "text/html": [
       "<div>\n",
       "<style scoped>\n",
       "    .dataframe tbody tr th:only-of-type {\n",
       "        vertical-align: middle;\n",
       "    }\n",
       "\n",
       "    .dataframe tbody tr th {\n",
       "        vertical-align: top;\n",
       "    }\n",
       "\n",
       "    .dataframe thead th {\n",
       "        text-align: right;\n",
       "    }\n",
       "</style>\n",
       "<table border=\"1\" class=\"dataframe\">\n",
       "  <thead>\n",
       "    <tr style=\"text-align: right;\">\n",
       "      <th></th>\n",
       "      <th>Unnamed: 0</th>\n",
       "      <th>ID</th>\n",
       "      <th>Label</th>\n",
       "    </tr>\n",
       "  </thead>\n",
       "  <tbody>\n",
       "    <tr>\n",
       "      <th>0</th>\n",
       "      <td>0</td>\n",
       "      <td>aa2725b2-bbc4-11e8-b2bc-ac1f6b6435d0_1</td>\n",
       "      <td>7|0</td>\n",
       "    </tr>\n",
       "    <tr>\n",
       "      <th>1</th>\n",
       "      <td>1</td>\n",
       "      <td>aa2725b2-bbc4-11e8-b2bc-ac1f6b6435d0_2</td>\n",
       "      <td>7|0</td>\n",
       "    </tr>\n",
       "    <tr>\n",
       "      <th>2</th>\n",
       "      <td>2</td>\n",
       "      <td>aa2725b2-bbc4-11e8-b2bc-ac1f6b6435d0_3</td>\n",
       "      <td>7|0</td>\n",
       "    </tr>\n",
       "    <tr>\n",
       "      <th>3</th>\n",
       "      <td>3</td>\n",
       "      <td>aa2725b2-bbc4-11e8-b2bc-ac1f6b6435d0_4</td>\n",
       "      <td>7|0</td>\n",
       "    </tr>\n",
       "    <tr>\n",
       "      <th>4</th>\n",
       "      <td>4</td>\n",
       "      <td>aa2725b2-bbc4-11e8-b2bc-ac1f6b6435d0_5</td>\n",
       "      <td>7|0</td>\n",
       "    </tr>\n",
       "    <tr>\n",
       "      <th>...</th>\n",
       "      <td>...</td>\n",
       "      <td>...</td>\n",
       "      <td>...</td>\n",
       "    </tr>\n",
       "    <tr>\n",
       "      <th>125187</th>\n",
       "      <td>125187</td>\n",
       "      <td>606c3796-bbab-11e8-b2ba-ac1f6b6435d0_19</td>\n",
       "      <td>6</td>\n",
       "    </tr>\n",
       "    <tr>\n",
       "      <th>125188</th>\n",
       "      <td>125188</td>\n",
       "      <td>606c3796-bbab-11e8-b2ba-ac1f6b6435d0_20</td>\n",
       "      <td>6</td>\n",
       "    </tr>\n",
       "    <tr>\n",
       "      <th>125189</th>\n",
       "      <td>125189</td>\n",
       "      <td>606c3796-bbab-11e8-b2ba-ac1f6b6435d0_21</td>\n",
       "      <td>6</td>\n",
       "    </tr>\n",
       "    <tr>\n",
       "      <th>125190</th>\n",
       "      <td>125190</td>\n",
       "      <td>606c3796-bbab-11e8-b2ba-ac1f6b6435d0_22</td>\n",
       "      <td>6</td>\n",
       "    </tr>\n",
       "    <tr>\n",
       "      <th>125191</th>\n",
       "      <td>125191</td>\n",
       "      <td>606c3796-bbab-11e8-b2ba-ac1f6b6435d0_23</td>\n",
       "      <td>6</td>\n",
       "    </tr>\n",
       "  </tbody>\n",
       "</table>\n",
       "<p>125192 rows × 3 columns</p>\n",
       "</div>"
      ],
      "text/plain": [
       "        Unnamed: 0                                       ID Label\n",
       "0                0   aa2725b2-bbc4-11e8-b2bc-ac1f6b6435d0_1   7|0\n",
       "1                1   aa2725b2-bbc4-11e8-b2bc-ac1f6b6435d0_2   7|0\n",
       "2                2   aa2725b2-bbc4-11e8-b2bc-ac1f6b6435d0_3   7|0\n",
       "3                3   aa2725b2-bbc4-11e8-b2bc-ac1f6b6435d0_4   7|0\n",
       "4                4   aa2725b2-bbc4-11e8-b2bc-ac1f6b6435d0_5   7|0\n",
       "...            ...                                      ...   ...\n",
       "125187      125187  606c3796-bbab-11e8-b2ba-ac1f6b6435d0_19     6\n",
       "125188      125188  606c3796-bbab-11e8-b2ba-ac1f6b6435d0_20     6\n",
       "125189      125189  606c3796-bbab-11e8-b2ba-ac1f6b6435d0_21     6\n",
       "125190      125190  606c3796-bbab-11e8-b2ba-ac1f6b6435d0_22     6\n",
       "125191      125191  606c3796-bbab-11e8-b2ba-ac1f6b6435d0_23     6\n",
       "\n",
       "[125192 rows x 3 columns]"
      ]
     },
     "execution_count": 7,
     "metadata": {},
     "output_type": "execute_result"
    }
   ],
   "source": [
    "df_f_val"
   ]
  },
  {
   "cell_type": "code",
   "execution_count": 8,
   "metadata": {},
   "outputs": [],
   "source": [
    "## Check input\n",
    "df_train_test = df_f_val[:20]\n",
    "df_val_test = df_f_val[:20]\n",
    "#df_train_test= df_f_val[125188:125191]"
   ]
  },
  {
   "cell_type": "code",
   "execution_count": 9,
   "metadata": {},
   "outputs": [],
   "source": [
    "a = df_train_test.ID.values[0]\n",
    "b = df_train_test.ID.values[19]"
   ]
  },
  {
   "cell_type": "code",
   "execution_count": 10,
   "metadata": {},
   "outputs": [
    {
     "data": {
      "text/plain": [
       "(375, 571)"
      ]
     },
     "execution_count": 10,
     "metadata": {},
     "output_type": "execute_result"
    }
   ],
   "source": [
    "imageio.imread(img_f_path + b + \"_mt.png\" ).shape"
   ]
  },
  {
   "cell_type": "code",
   "execution_count": 11,
   "metadata": {},
   "outputs": [
    {
     "data": {
      "text/plain": [
       "Array([[0, 0, 0, ..., 0, 0, 0],\n",
       "       [0, 0, 0, ..., 0, 0, 0],\n",
       "       [0, 0, 0, ..., 0, 0, 0],\n",
       "       ...,\n",
       "       [0, 0, 0, ..., 0, 0, 0],\n",
       "       [0, 0, 0, ..., 0, 0, 0],\n",
       "       [0, 0, 0, ..., 0, 0, 0]], dtype=uint8)"
      ]
     },
     "execution_count": 11,
     "metadata": {},
     "output_type": "execute_result"
    }
   ],
   "source": [
    "imageio.imread(img_f_path + b + \"_mt.png\" )"
   ]
  },
  {
   "cell_type": "code",
   "execution_count": 12,
   "metadata": {},
   "outputs": [
    {
     "data": {
      "text/plain": [
       "int"
      ]
     },
     "execution_count": 12,
     "metadata": {},
     "output_type": "execute_result"
    }
   ],
   "source": [
    "input_size = (765, 1250)\n",
    "type(input_size[0])"
   ]
  },
  {
   "cell_type": "code",
   "execution_count": 13,
   "metadata": {},
   "outputs": [
    {
     "data": {
      "text/plain": [
       "Array([[0, 0, 0, ..., 0, 0, 0],\n",
       "       [0, 0, 0, ..., 0, 0, 0],\n",
       "       [0, 0, 0, ..., 0, 0, 0],\n",
       "       ...,\n",
       "       [0, 0, 0, ..., 0, 0, 0],\n",
       "       [0, 0, 0, ..., 0, 0, 0],\n",
       "       [0, 0, 0, ..., 0, 0, 0]], dtype=uint8)"
      ]
     },
     "execution_count": 13,
     "metadata": {},
     "output_type": "execute_result"
    }
   ],
   "source": [
    "imageio.imread(img_f_path + a + \"_nu.png\")"
   ]
  },
  {
   "cell_type": "code",
   "execution_count": 14,
   "metadata": {},
   "outputs": [
    {
     "data": {
      "text/plain": [
       "<matplotlib.image.AxesImage at 0x7fddaff0ba60>"
      ]
     },
     "execution_count": 14,
     "metadata": {},
     "output_type": "execute_result"
    },
    {
     "data": {
      "image/png": "[encoded data removed]",
      "text/plain": [
       "<Figure size 432x288 with 1 Axes>"
      ]
     },
     "metadata": {
      "needs_background": "light"
     },
     "output_type": "display_data"
    }
   ],
   "source": [
    "img_mt =tf.keras.preprocessing.image.load_img(img_f_path + a + \"_mt.png\",color_mode=\"grayscale\") \n",
    "img_er =tf.keras.preprocessing.image.load_img(img_f_path + a + \"_er.png\", color_mode=\"grayscale\") \n",
    "img_nu =tf.keras.preprocessing.image.load_img(img_f_path + a + \"_nu.png\", color_mode=\"grayscale\") \n",
    "img_pr =tf.keras.preprocessing.image.load_img(img_f_path + a + \"_tp.png\", color_mode=\"grayscale\") \n",
    "\n",
    "img_4 = np.dstack((img_mt, img_er, img_nu, img_pr))\n",
    "\n",
    "n_to_add_h = (input_size[0] - img_4.shape[0])\n",
    "top_pad_h = n_to_add_h//2\n",
    "bottom_pad_h = n_to_add_h-top_pad_h\n",
    "                \n",
    "n_to_add_w = (input_size[1] - img_4.shape[1])\n",
    "top_pad_w = n_to_add_w//2\n",
    "bottom_pad_w = n_to_add_w-top_pad_w\n",
    "                \n",
    "img_4p = np.pad(img_4, [(top_pad_h, bottom_pad_h), (top_pad_w, bottom_pad_w ), (0,0)], mode = 'constant')\n",
    "plt.imshow(img_4p)"
   ]
  },
  {
   "cell_type": "code",
   "execution_count": 15,
   "metadata": {},
   "outputs": [
    {
     "data": {
      "text/plain": [
       "<matplotlib.image.AxesImage at 0x7fddaf6eeb80>"
      ]
     },
     "execution_count": 15,
     "metadata": {},
     "output_type": "execute_result"
    },
    {
     "data": {
      "image/png": "[encoded data removed]",
      "text/plain": [
       "<Figure size 432x288 with 1 Axes>"
      ]
     },
     "metadata": {
      "needs_background": "light"
     },
     "output_type": "display_data"
    }
   ],
   "source": [
    "img_mt =tf.keras.preprocessing.image.load_img(img_f_path + a + \"_mt.png\", color_mode=\"grayscale\") \n",
    "img_er =tf.keras.preprocessing.image.load_img(img_f_path + a + \"_er.png\", color_mode=\"grayscale\") \n",
    "img_nu =tf.keras.preprocessing.image.load_img(img_f_path + a + \"_nu.png\", color_mode=\"grayscale\") \n",
    "img_pr =tf.keras.preprocessing.image.load_img(img_f_path + a + \"_tp.png\", color_mode=\"grayscale\") \n",
    "\n",
    "img_4 = np.dstack((img_mt, img_er, img_nu, img_pr))\n",
    "#tf.image.resize(img_4, (input_size[0], input_size[1]))\n",
    "plt.imshow(img_4)"
   ]
  },
  {
   "cell_type": "code",
   "execution_count": 16,
   "metadata": {},
   "outputs": [
    {
     "name": "stderr",
     "output_type": "stream",
     "text": [
      "Clipping input data to the valid range for imshow with RGB data ([0..1] for floats or [0..255] for integers).\n"
     ]
    },
    {
     "data": {
      "text/plain": [
       "<matplotlib.image.AxesImage at 0x7fddaf666c40>"
      ]
     },
     "execution_count": 16,
     "metadata": {},
     "output_type": "execute_result"
    },
    {
     "data": {
      "image/png": "[encoded data removed]",
      "text/plain": [
       "<Figure size 432x288 with 1 Axes>"
      ]
     },
     "metadata": {
      "needs_background": "light"
     },
     "output_type": "display_data"
    }
   ],
   "source": [
    "img_test = tf.keras.preprocessing.image.load_img(img_f_path + a + \"_nu.png\")\n",
    "plt.imshow(tf.keras.preprocessing.image.img_to_array(img_test))"
   ]
  },
  {
   "cell_type": "code",
   "execution_count": 17,
   "metadata": {},
   "outputs": [
    {
     "data": {
      "text/html": [
       "<div>\n",
       "<style scoped>\n",
       "    .dataframe tbody tr th:only-of-type {\n",
       "        vertical-align: middle;\n",
       "    }\n",
       "\n",
       "    .dataframe tbody tr th {\n",
       "        vertical-align: top;\n",
       "    }\n",
       "\n",
       "    .dataframe thead th {\n",
       "        text-align: right;\n",
       "    }\n",
       "</style>\n",
       "<table border=\"1\" class=\"dataframe\">\n",
       "  <thead>\n",
       "    <tr style=\"text-align: right;\">\n",
       "      <th></th>\n",
       "      <th>Unnamed: 0</th>\n",
       "      <th>ID</th>\n",
       "      <th>Label</th>\n",
       "    </tr>\n",
       "  </thead>\n",
       "  <tbody>\n",
       "    <tr>\n",
       "      <th>0</th>\n",
       "      <td>0</td>\n",
       "      <td>aa2725b2-bbc4-11e8-b2bc-ac1f6b6435d0_1</td>\n",
       "      <td>7|0</td>\n",
       "    </tr>\n",
       "    <tr>\n",
       "      <th>1</th>\n",
       "      <td>1</td>\n",
       "      <td>aa2725b2-bbc4-11e8-b2bc-ac1f6b6435d0_2</td>\n",
       "      <td>7|0</td>\n",
       "    </tr>\n",
       "    <tr>\n",
       "      <th>2</th>\n",
       "      <td>2</td>\n",
       "      <td>aa2725b2-bbc4-11e8-b2bc-ac1f6b6435d0_3</td>\n",
       "      <td>7|0</td>\n",
       "    </tr>\n",
       "    <tr>\n",
       "      <th>3</th>\n",
       "      <td>3</td>\n",
       "      <td>aa2725b2-bbc4-11e8-b2bc-ac1f6b6435d0_4</td>\n",
       "      <td>7|0</td>\n",
       "    </tr>\n",
       "    <tr>\n",
       "      <th>4</th>\n",
       "      <td>4</td>\n",
       "      <td>aa2725b2-bbc4-11e8-b2bc-ac1f6b6435d0_5</td>\n",
       "      <td>7|0</td>\n",
       "    </tr>\n",
       "    <tr>\n",
       "      <th>5</th>\n",
       "      <td>5</td>\n",
       "      <td>aa2725b2-bbc4-11e8-b2bc-ac1f6b6435d0_6</td>\n",
       "      <td>7|0</td>\n",
       "    </tr>\n",
       "    <tr>\n",
       "      <th>6</th>\n",
       "      <td>6</td>\n",
       "      <td>aa2725b2-bbc4-11e8-b2bc-ac1f6b6435d0_7</td>\n",
       "      <td>7|0</td>\n",
       "    </tr>\n",
       "    <tr>\n",
       "      <th>7</th>\n",
       "      <td>7</td>\n",
       "      <td>aa2725b2-bbc4-11e8-b2bc-ac1f6b6435d0_8</td>\n",
       "      <td>7|0</td>\n",
       "    </tr>\n",
       "    <tr>\n",
       "      <th>8</th>\n",
       "      <td>8</td>\n",
       "      <td>aa2725b2-bbc4-11e8-b2bc-ac1f6b6435d0_9</td>\n",
       "      <td>7|0</td>\n",
       "    </tr>\n",
       "    <tr>\n",
       "      <th>9</th>\n",
       "      <td>9</td>\n",
       "      <td>aa2725b2-bbc4-11e8-b2bc-ac1f6b6435d0_10</td>\n",
       "      <td>7|0</td>\n",
       "    </tr>\n",
       "    <tr>\n",
       "      <th>10</th>\n",
       "      <td>10</td>\n",
       "      <td>aa2725b2-bbc4-11e8-b2bc-ac1f6b6435d0_11</td>\n",
       "      <td>7|0</td>\n",
       "    </tr>\n",
       "    <tr>\n",
       "      <th>11</th>\n",
       "      <td>11</td>\n",
       "      <td>aa2725b2-bbc4-11e8-b2bc-ac1f6b6435d0_12</td>\n",
       "      <td>7|0</td>\n",
       "    </tr>\n",
       "    <tr>\n",
       "      <th>12</th>\n",
       "      <td>12</td>\n",
       "      <td>aa2725b2-bbc4-11e8-b2bc-ac1f6b6435d0_13</td>\n",
       "      <td>7|0</td>\n",
       "    </tr>\n",
       "    <tr>\n",
       "      <th>13</th>\n",
       "      <td>13</td>\n",
       "      <td>aa2725b2-bbc4-11e8-b2bc-ac1f6b6435d0_14</td>\n",
       "      <td>7|0</td>\n",
       "    </tr>\n",
       "    <tr>\n",
       "      <th>14</th>\n",
       "      <td>14</td>\n",
       "      <td>aa2725b2-bbc4-11e8-b2bc-ac1f6b6435d0_15</td>\n",
       "      <td>7|0</td>\n",
       "    </tr>\n",
       "    <tr>\n",
       "      <th>15</th>\n",
       "      <td>15</td>\n",
       "      <td>aa2725b2-bbc4-11e8-b2bc-ac1f6b6435d0_16</td>\n",
       "      <td>7|0</td>\n",
       "    </tr>\n",
       "    <tr>\n",
       "      <th>16</th>\n",
       "      <td>16</td>\n",
       "      <td>aa2725b2-bbc4-11e8-b2bc-ac1f6b6435d0_17</td>\n",
       "      <td>7|0</td>\n",
       "    </tr>\n",
       "    <tr>\n",
       "      <th>17</th>\n",
       "      <td>17</td>\n",
       "      <td>aa2725b2-bbc4-11e8-b2bc-ac1f6b6435d0_18</td>\n",
       "      <td>7|0</td>\n",
       "    </tr>\n",
       "    <tr>\n",
       "      <th>18</th>\n",
       "      <td>18</td>\n",
       "      <td>aa2725b2-bbc4-11e8-b2bc-ac1f6b6435d0_19</td>\n",
       "      <td>7|0</td>\n",
       "    </tr>\n",
       "    <tr>\n",
       "      <th>19</th>\n",
       "      <td>19</td>\n",
       "      <td>aa2725b2-bbc4-11e8-b2bc-ac1f6b6435d0_20</td>\n",
       "      <td>7|0</td>\n",
       "    </tr>\n",
       "  </tbody>\n",
       "</table>\n",
       "</div>"
      ],
      "text/plain": [
       "    Unnamed: 0                                       ID Label\n",
       "0            0   aa2725b2-bbc4-11e8-b2bc-ac1f6b6435d0_1   7|0\n",
       "1            1   aa2725b2-bbc4-11e8-b2bc-ac1f6b6435d0_2   7|0\n",
       "2            2   aa2725b2-bbc4-11e8-b2bc-ac1f6b6435d0_3   7|0\n",
       "3            3   aa2725b2-bbc4-11e8-b2bc-ac1f6b6435d0_4   7|0\n",
       "4            4   aa2725b2-bbc4-11e8-b2bc-ac1f6b6435d0_5   7|0\n",
       "5            5   aa2725b2-bbc4-11e8-b2bc-ac1f6b6435d0_6   7|0\n",
       "6            6   aa2725b2-bbc4-11e8-b2bc-ac1f6b6435d0_7   7|0\n",
       "7            7   aa2725b2-bbc4-11e8-b2bc-ac1f6b6435d0_8   7|0\n",
       "8            8   aa2725b2-bbc4-11e8-b2bc-ac1f6b6435d0_9   7|0\n",
       "9            9  aa2725b2-bbc4-11e8-b2bc-ac1f6b6435d0_10   7|0\n",
       "10          10  aa2725b2-bbc4-11e8-b2bc-ac1f6b6435d0_11   7|0\n",
       "11          11  aa2725b2-bbc4-11e8-b2bc-ac1f6b6435d0_12   7|0\n",
       "12          12  aa2725b2-bbc4-11e8-b2bc-ac1f6b6435d0_13   7|0\n",
       "13          13  aa2725b2-bbc4-11e8-b2bc-ac1f6b6435d0_14   7|0\n",
       "14          14  aa2725b2-bbc4-11e8-b2bc-ac1f6b6435d0_15   7|0\n",
       "15          15  aa2725b2-bbc4-11e8-b2bc-ac1f6b6435d0_16   7|0\n",
       "16          16  aa2725b2-bbc4-11e8-b2bc-ac1f6b6435d0_17   7|0\n",
       "17          17  aa2725b2-bbc4-11e8-b2bc-ac1f6b6435d0_18   7|0\n",
       "18          18  aa2725b2-bbc4-11e8-b2bc-ac1f6b6435d0_19   7|0\n",
       "19          19  aa2725b2-bbc4-11e8-b2bc-ac1f6b6435d0_20   7|0"
      ]
     },
     "execution_count": 17,
     "metadata": {},
     "output_type": "execute_result"
    }
   ],
   "source": [
    "df_train_test"
   ]
  },
  {
   "cell_type": "code",
   "execution_count": 18,
   "metadata": {},
   "outputs": [
    {
     "data": {
      "text/plain": [
       "7"
      ]
     },
     "execution_count": 18,
     "metadata": {},
     "output_type": "execute_result"
    }
   ],
   "source": [
    "lbl = df_train_test.Label.values[0].split('|')\n",
    "int(lbl[0])\n",
    "#tf.keras.utils.to_categorical(lbl, num_classes=19)"
   ]
  },
  {
   "cell_type": "code",
   "execution_count": 19,
   "metadata": {},
   "outputs": [
    {
     "name": "stdout",
     "output_type": "stream",
     "text": [
      "[0. 0. 0. 0. 0. 0. 0. 0. 0. 0. 0. 0. 0. 0. 0. 0. 0. 0. 0.]\n"
     ]
    },
    {
     "data": {
      "text/plain": [
       "array([1., 0., 0., 0., 0., 0., 0., 1., 0., 0., 0., 0., 0., 0., 0., 0., 0.,\n",
       "       0., 0.])"
      ]
     },
     "execution_count": 19,
     "metadata": {},
     "output_type": "execute_result"
    }
   ],
   "source": [
    "one_hot = np.zeros(19)\n",
    "print(one_hot)\n",
    "for i in lbl:\n",
    "    nmbr = int(i)\n",
    "    one_hot[nmbr] = 1\n",
    "one_hot"
   ]
  },
  {
   "cell_type": "markdown",
   "metadata": {},
   "source": [
    "# Generator"
   ]
  },
  {
   "cell_type": "code",
   "execution_count": 20,
   "metadata": {},
   "outputs": [
    {
     "data": {
      "text/html": [
       "<div>\n",
       "<style scoped>\n",
       "    .dataframe tbody tr th:only-of-type {\n",
       "        vertical-align: middle;\n",
       "    }\n",
       "\n",
       "    .dataframe tbody tr th {\n",
       "        vertical-align: top;\n",
       "    }\n",
       "\n",
       "    .dataframe thead th {\n",
       "        text-align: right;\n",
       "    }\n",
       "</style>\n",
       "<table border=\"1\" class=\"dataframe\">\n",
       "  <thead>\n",
       "    <tr style=\"text-align: right;\">\n",
       "      <th></th>\n",
       "      <th>Unnamed: 0</th>\n",
       "      <th>ID</th>\n",
       "      <th>Label</th>\n",
       "    </tr>\n",
       "  </thead>\n",
       "  <tbody>\n",
       "    <tr>\n",
       "      <th>0</th>\n",
       "      <td>0</td>\n",
       "      <td>aa2725b2-bbc4-11e8-b2bc-ac1f6b6435d0_1</td>\n",
       "      <td>7|0</td>\n",
       "    </tr>\n",
       "    <tr>\n",
       "      <th>1</th>\n",
       "      <td>1</td>\n",
       "      <td>aa2725b2-bbc4-11e8-b2bc-ac1f6b6435d0_2</td>\n",
       "      <td>7|0</td>\n",
       "    </tr>\n",
       "    <tr>\n",
       "      <th>2</th>\n",
       "      <td>2</td>\n",
       "      <td>aa2725b2-bbc4-11e8-b2bc-ac1f6b6435d0_3</td>\n",
       "      <td>7|0</td>\n",
       "    </tr>\n",
       "    <tr>\n",
       "      <th>3</th>\n",
       "      <td>3</td>\n",
       "      <td>aa2725b2-bbc4-11e8-b2bc-ac1f6b6435d0_4</td>\n",
       "      <td>7|0</td>\n",
       "    </tr>\n",
       "    <tr>\n",
       "      <th>4</th>\n",
       "      <td>4</td>\n",
       "      <td>aa2725b2-bbc4-11e8-b2bc-ac1f6b6435d0_5</td>\n",
       "      <td>7|0</td>\n",
       "    </tr>\n",
       "  </tbody>\n",
       "</table>\n",
       "</div>"
      ],
      "text/plain": [
       "   Unnamed: 0                                      ID Label\n",
       "0           0  aa2725b2-bbc4-11e8-b2bc-ac1f6b6435d0_1   7|0\n",
       "1           1  aa2725b2-bbc4-11e8-b2bc-ac1f6b6435d0_2   7|0\n",
       "2           2  aa2725b2-bbc4-11e8-b2bc-ac1f6b6435d0_3   7|0\n",
       "3           3  aa2725b2-bbc4-11e8-b2bc-ac1f6b6435d0_4   7|0\n",
       "4           4  aa2725b2-bbc4-11e8-b2bc-ac1f6b6435d0_5   7|0"
      ]
     },
     "execution_count": 20,
     "metadata": {},
     "output_type": "execute_result"
    }
   ],
   "source": [
    "df_train_test.head()"
   ]
  },
  {
   "cell_type": "code",
   "execution_count": 21,
   "metadata": {},
   "outputs": [
    {
     "data": {
      "text/plain": [
       "'\\ninput =(None(batchsize), input_height, input_width, input_channel)\\noutput= ([batch_size, onhotencoded ])\\n\\n'"
      ]
     },
     "execution_count": 21,
     "metadata": {},
     "output_type": "execute_result"
    }
   ],
   "source": [
    "\"\"\"\n",
    "input =(None(batchsize), input_height, input_width, input_channel)\n",
    "output= ([batch_size, onhotencoded ])\n",
    "\n",
    "\"\"\""
   ]
  },
  {
   "cell_type": "markdown",
   "metadata": {},
   "source": [
    "class CustomDataGen(tf.keras.utils.Sequence):\n",
    "    def __init__(self, df, X_col, y_col, batch_size, input_size, shuffle=True):\n",
    "        \n",
    "        self.df = df.copy()\n",
    "        self.X_col = X_col\n",
    "        self.y_col = y_col\n",
    "        self.batch_size = batch_size\n",
    "        self.input_size = input_size\n",
    "        self.shuffle = shuffle\n",
    "        \n",
    "        self.n = len(self.df)\n",
    "        self.n_label = 19\n",
    "        \n",
    "        def on_epoch_end(self):  #called by the echt of every epoch by fit method\n",
    "            if self.shuffle:\n",
    "                self.df.sample(frac=1).reset_index(drop=True)\n",
    "        \"\"\"   def pad(self, img, h, w):\n",
    "                top_pad = np.floor((h - img.shape[0]) / 2).astype(np.uint16)\n",
    "                bottom_pad = np.ceil((h - img.shape[0]) / 2).astype(np.uint16)\n",
    "                right_pad = np.ceil((w - img.shape[1]) / 2).astype(np.uint16)\n",
    "                left_pad = np.floor((w - img.shape[1]) / 2).astype(np.uint16)\n",
    "                \n",
    "                return np.copy(np.pad(img, ((top_pad, bottom_pad), (left_pad, right_pad), (0, 0)), mode='constant', constant_values=0))\"\"\"\n",
    "     \n",
    "        \n",
    "        def __get_input(self, ID, target_size):  #get inpyt array [batchsize, h, w, input_channel]\n",
    "            \n",
    "            #get 4 images\n",
    "            if os.path.isfile(img_f_path + ID + \"_mt.png\"):\n",
    "                img_mt =tf.keras.preprocessing.image.load_img(img_f_path + ID + \"_mt.png\", color_mode=\"grayscale\") \n",
    "                img_mt =tf.keras.preprocessing.image.load_img(img_f_path + ID + \"_mt.png\", color_mode=\"grayscale\") \n",
    "                img_er =tf.keras.preprocessing.image.load_img(img_f_path + ID + \"_er.png\", color_mode=\"grayscale\") \n",
    "                img_nu =tf.keras.preprocessing.image.load_img(img_f_path + ID + \"_nu.png\", color_mode=\"grayscale\") \n",
    "                img_pr =tf.keras.preprocessing.image.load_img(img_f_path + ID + \"_pr.png\", color_mode=\"grayscale\") \n",
    "            else: \n",
    "                img_mt =tf.keras.preprocessing.image.load_img(img_f_aug_path + ID + \"_mt.png\", color_mode=\"grayscale\") \n",
    "                img_er =tf.keras.preprocessing.image.load_img(img_f_aug_path + ID + \"_er.png\", color_mode=\"grayscale\") \n",
    "                img_nu =tf.keras.preprocessing.image.load_img(img_f_aug_path + ID + \"_nu.png\", color_mode=\"grayscale\") \n",
    "                img_pr =tf.keras.preprocessing.image.load_img(img_f_aug_path + ID + \"_pr.png\", color_mode=\"grayscale\") \n",
    "                        \n",
    "            #stack\n",
    "            img_4 = np.dstack((img_mt, img_er, img_nu, img_pr)).astype(np.float32)\n",
    "            \n",
    "            #Padding or resize\n",
    "            if img_4.shape[0]<= target_size[0] and img_4.shape[1]<= target_size[1]:\n",
    "                n_to_add_h = (input_size[0] - img_4.shape[0])\n",
    "                top_pad_h = n_to_add_h//2\n",
    "                bottom_pad_h = n_to_add_h-top_pad_h\n",
    "                \n",
    "                n_to_add_w = (input_size[1] - img_4.shape[1])\n",
    "                top_pad_w = n_to_add_w//2\n",
    "                bottom_pad_w = n_to_add_w-top_pad_w\n",
    "                \n",
    "                img_4p = np.pad(img_4, [(top_pad_h, bottom_pad_h), (top_pad_w, bottom_pad_w ), (0,0)], mode = 'constant')\n",
    "            else:\n",
    "                image_arr = tf.image.resize(img_4, (target_size[0], target_size[1])).numpy()      \n",
    "                            \n",
    "            return image_arr/255.\n",
    "        \n",
    "        def __get_output(self, label):\n",
    "            label = str(label)\n",
    "            lbl = label.split('|')\n",
    "            one_hot = np.zeros(19, dtype= np.float32)\n",
    "            for i in lbl:\n",
    "                one_hot[i] = 1\n",
    "\n",
    "            return one_hot\n",
    "        \n",
    "        def __get_data(self, batches):\n",
    "            #generates data containing batch_size samples\n",
    "            \n",
    "            id_batch = batches[self.X_col['ID']]          #batches ID\n",
    "            \n",
    "            label_batch = batches[self.y_col['Label']]    #batches Label\n",
    "            \n",
    "            X_batch = np.asarray([self.__get_input(x, self.input_size) for x in zip(id_batch)]) \n",
    "            \n",
    "            y_batch = np.asarray([self.__get_output(y) for y in label_batch])   \n",
    "            \n",
    "            return X_batch, y_batch\n",
    "        \n",
    "        def __getitem__(self, index):        #generate one batch of data and pass into get_data\n",
    "            \n",
    "            batches = self.df[index * self.batch_size:(index + 1) * self.batch_size]\n",
    "            X, y = self.__get_data(batches)\n",
    "            return X, y\n",
    "            \n",
    "        def __len__(self):\n",
    "            return self.n // self.batch_size  #returns number of batches the generator can produce\n",
    "            \n"
   ]
  },
  {
   "cell_type": "code",
   "execution_count": 22,
   "metadata": {},
   "outputs": [],
   "source": [
    "class CustomDataGen(tf.keras.utils.Sequence):\n",
    "    \"\"\"\n",
    "    This Data generator takes as input a training or validation dataframe and outputs the preprocessed (stacked and same    dimension for every images) in batches with batchsize = 32) \n",
    "    \"\"\"\n",
    "    def __init__(self, df, X_col, y_col,\n",
    "                 batch_size,\n",
    "                 input_size,\n",
    "                 shuffle=True):\n",
    "        \n",
    "        self.df = df.copy()\n",
    "        self.X_col = X_col # df[\"ID\"]\n",
    "        self.y_col = y_col # df[\"Label\"]\n",
    "        self.batch_size = batch_size\n",
    "        self.input_size = input_size\n",
    "        self.shuffle = shuffle\n",
    "        \n",
    "        self.n = len(self.df)\n",
    "        self.n_name = 19\n",
    "\n",
    "    def on_epoch_end(self):\n",
    "        if self.shuffle:\n",
    "            self.df.sample(frac=1).reset_index(drop=True)\n",
    "\n",
    "\n",
    "    def __get_input(self, ID, target_size):\n",
    "        \n",
    "        path_1 = \"../train_full_aug/\"\n",
    "        path_2 = \"../../data/segmented_train/\"\n",
    "\n",
    "        if os.path.isfile(path_1+ID+ \"_mt.png\"): \n",
    "            image_mt = tf.keras.preprocessing.image.load_img(path_1+ ID + \"_mt.png\", color_mode = \"grayscale\")\n",
    "            image_nu = tf.keras.preprocessing.image.load_img(path_1+ ID + \"_nu.png\", color_mode = \"grayscale\")\n",
    "            image_er = tf.keras.preprocessing.image.load_img(path_1+ ID + \"_er.png\", color_mode = \"grayscale\")\n",
    "            image_tp = tf.keras.preprocessing.image.load_img(path_1+ ID + \"_tp.png\", color_mode = \"grayscale\")\n",
    "                \n",
    "        else: \n",
    "            image_mt = tf.keras.preprocessing.image.load_img(path_2+ ID + \"_mt.png\", color_mode = \"grayscale\")\n",
    "            image_nu = tf.keras.preprocessing.image.load_img(path_2+ ID + \"_nu.png\", color_mode = \"grayscale\")\n",
    "            image_er = tf.keras.preprocessing.image.load_img(path_2+ ID + \"_er.png\", color_mode = \"grayscale\")\n",
    "            image_tp = tf.keras.preprocessing.image.load_img(path_2+ ID + \"_tp.png\", color_mode = \"grayscale\")\n",
    "        \n",
    "        # stack the 4 channels \n",
    "        img = np.dstack((image_mt, image_nu, image_er, image_tp)).astype(np.float32) \n",
    "        \n",
    "        # pad the images if smaller \n",
    "        if img.shape[0]<= target_size[0] and img.shape[1]<= target_size[1]:\n",
    "                n_to_add_h = (target_size[0] - img.shape[0])\n",
    "                top_pad_h = n_to_add_h//2\n",
    "                bottom_pad_h = n_to_add_h-top_pad_h\n",
    "                \n",
    "                n_to_add_w = (target_size[1] - img.shape[1])\n",
    "                top_pad_w = n_to_add_w//2\n",
    "                bottom_pad_w = n_to_add_w-top_pad_w\n",
    "                \n",
    "                image_arr = np.pad(img, [(top_pad_h, bottom_pad_h), (top_pad_w, bottom_pad_w ), (0,0)], mode = 'constant', constant_values=0)\n",
    "        # resize the images if bigger\n",
    "        else: \n",
    "            image_arr = tf.image.resize(img,(target_size[0], target_size[1]))\n",
    "\n",
    "        return image_arr/255.\n",
    "\n",
    "\n",
    "    def __get_output(self, label):\n",
    "        #return self.one_hot(label)\n",
    "    \n",
    "        y_label = label.split('|')\n",
    "        one_hot = np.zeros(19)\n",
    "        for i in y_label:\n",
    "            nmbr = int(i)\n",
    "            one_hot[nmbr] = 1\n",
    "        \n",
    "        return one_hot\n",
    "    \n",
    "    def __get_data(self, batches):\n",
    "        # Generates data containing batch_size samples\n",
    "\n",
    "        id_batch = batches[self.X_col['ID']]\n",
    "\n",
    "        label_batch = batches[self.y_col['Label']]\n",
    "\n",
    "        X_batch = np.asarray([self.__get_input(x, self.input_size) for x in id_batch])\n",
    "\n",
    "        y_batch = np.asarray([self.__get_output(y) for y in label_batch])\n",
    "\n",
    "        return X_batch, y_batch\n",
    "\n",
    "    def __getitem__(self, index):\n",
    "\n",
    "        batches = self.df[index * self.batch_size:(index + 1) * self.batch_size]\n",
    "        X, y = self.__get_data(batches)        \n",
    "        return X, y\n",
    "    \n",
    "    def __len__(self):\n",
    "        return self.n // self.batch_size\n"
   ]
  },
  {
   "cell_type": "code",
   "execution_count": 23,
   "metadata": {},
   "outputs": [],
   "source": [
    "#images path\n",
    "img_f_aug_path = \"../train_full_aug/\"\n",
    "img_f_path = \"../../data/segmented_train/\"\n",
    "\n",
    "df_f_train = pd.read_csv(\"../CSVinput/df_f_train.csv\")\n",
    "df_f_val = pd.read_csv(\"../CSVinput/df_f_val.csv\")\n",
    "\n",
    "# Hyperparameters\n",
    "target_size_f = (583, 915)\n",
    "train_batch_size = 32\n",
    "val_batch_size = 32\n",
    "\n",
    "RESCALING_FACTOR = 1./255\n",
    "\n",
    "# instantiate data generators\n",
    "datagen = ImageDataGenerator(rescale=RESCALING_FACTOR)\n",
    "\n",
    "#Data generators\n",
    "traingen = CustomDataGen(df_f_train,\n",
    "                         X_col = {'ID': 'ID'},\n",
    "                         y_col = {'Label': 'Label'},\n",
    "                         batch_size = train_batch_size,\n",
    "                         input_size = target_size_f)\n",
    "\n",
    "valgen = CustomDataGen(df_f_val,\n",
    "                       X_col = {'ID': 'ID'},\n",
    "                       y_col = {'Label': 'Label'},\n",
    "                       batch_size = val_batch_size,\n",
    "                       input_size = target_size_f)\n",
    "\n",
    "# form steps\n",
    "train_steps = traingen.n//traingen.batch_size\n",
    "val_steps = valgen.n//valgen.batch_size"
   ]
  },
  {
   "cell_type": "code",
   "execution_count": null,
   "metadata": {},
   "outputs": [],
   "source": []
  },
  {
   "cell_type": "code",
   "execution_count": 25,
   "metadata": {},
   "outputs": [],
   "source": [
    "\n",
    "def model_try():\n",
    "    kernel_size=(3,3)\n",
    "    pool_size=(4,4)\n",
    "    first_filters=32\n",
    "    second_filters=64\n",
    "\n",
    "    model = Sequential()\n",
    "    model.add(Conv2D(first_filters, kernel_size, activation = 'relu', padding = 'same', input_shape = (583, 915, 4)))\n",
    "    model.add(MaxPool2D(pool_size = pool_size))\n",
    "    model.add(Conv2D(second_filters, kernel_size, activation = 'relu', padding = 'same'))\n",
    "    model.add(MaxPool2D(pool_size = pool_size))\n",
    "    model.add(Flatten())\n",
    "    model.add(Dense(64, activation = 'relu'))\n",
    "    model.add(Dense(19, activation = 'sigmoid'))\n",
    "\n",
    "    # compile the model\n",
    "    model.compile(optimizer=\"adam\", loss = 'categorical_crossentropy', metrics=['accuracy'])\n",
    "\n",
    "    return model \n",
    "\n",
    "model1 = model_try() \n",
    "\n"
   ]
  },
  {
   "cell_type": "markdown",
   "metadata": {},
   "source": [
    "\n",
    "input_shape = (583, 915, 4)\n",
    "\n",
    "\n",
    "inputs = Input(input_shape)\n",
    "\n",
    "# get the pretrained model, cut out the top layer\n",
    "pretrained = ResNet50(input_shape = input_shape, include_top=False, input_tensor = inputs, weights='imagenet')\n",
    "\n",
    "# if the pretrained model it to be used as a feature extractor, and not for\n",
    "# fine-tuning, the weights of the model can be frozen in the following way\n",
    "# for layer in pretrained.layers:\n",
    "#    layer.trainable = False\n",
    "\n",
    "#output = pretrained(input)\n",
    "#output = GlobalAveragePooling2D()(output)\n",
    "#output = Dropout(0.5)(output)\n",
    "#output = Dense(1, activation='sigmoid')(output)\n",
    "\n",
    "model = Sequential()\n",
    "model.add(pretrained)\n",
    "model.add(Flatten())\n",
    "\n",
    "#Add the Dense layers along with activation and batch normalization\n",
    "model.add(Dense(1024,activation=('relu'),input_dim=512))\n",
    "model.add(Dense(512,activation=('relu'))) \n",
    "model.add(Dropout(.4))\n",
    "model.add(Dense(256,activation=('relu'))) \n",
    "model.add(Dropout(.3))      #Adding a dropout layer that will randomly drop 30% of the weights\n",
    "model.add(Dense(128,activation=('relu')))\n",
    "model.add(Dropout(.2))\n",
    "model.add(Dense(19,activation=('sigmoid')))\n",
    "\n",
    "#model = Model(input, output)\n",
    "\n",
    "# note the lower lr compared to the cnn example\n",
    "model.compile(SGD(lr=0.001, momentum=0.95), loss = 'category_crossentropy', metrics=['accuracy'])\n",
    "\n",
    "# print a summary of the model on screen\n",
    "model.summary() \n",
    "\n"
   ]
  },
  {
   "cell_type": "markdown",
   "metadata": {},
   "source": [
    "from __future__ import absolute_import\n",
    "from __future__ import division\n",
    "from __future__ import print_function\n",
    "\n",
    "import os\n",
    "import warnings\n",
    "\n",
    "#from tensorflow.keras.applications.imagenet_utils import get_submodules_from_kwargs\n",
    "#from tensorflow.keras.applications.imagenet_utils import decode_predictions\n",
    "#from tensorflow.keras.applications.imagenet_utils import _obtain_input_shape\n",
    "from tensorflow.keras.layers import Input\n",
    "from tensorflow.keras import layers\n",
    "from tensorflow.keras import backend\n",
    "from tensorflow.keras import models\n",
    "#from tensorflow.keras.utils import data_utils\n",
    "\n",
    "#WEIGHTS_PATH_NO_TOP = 'https://github.com/fchollet/deep-learning-models/releases/download/v0.2/resnet50_weights_tf_dim_ordering_tf_kernels_notop.h5'\n",
    "#WEIGHTS_PATH = 'https://github.com/fchollet/deep-learning-models/releases/download/v0.2/resnet50_weights_tf_dim_ordering_tf_kernels.h5'\n",
    "\n",
    "def identity_block(input_tensor, kernel_size, filters, stage, block):\n",
    "    \"\"\"The identity block is the block that has no conv layer at shortcut.\n",
    "    # Arguments\n",
    "        input_tensor: input tensor\n",
    "        kernel_size: default 3, the kernel size of\n",
    "            middle conv layer at main path\n",
    "        filters: list of integers, the filters of 3 conv layer at main path\n",
    "        stage: integer, current stage label, used for generating layer names\n",
    "        block: 'a','b'..., current block label, used for generating layer names\n",
    "    # Returns\n",
    "        Output tensor for the block.\n",
    "    \"\"\"\n",
    "    filters1, filters2, filters3 = filters\n",
    "    if backend.image_data_format() == 'channels_last':\n",
    "        bn_axis = 3\n",
    "    else:\n",
    "        bn_axis = 1\n",
    "    conv_name_base = 'res' + str(stage) + block + '_branch'\n",
    "    bn_name_base = 'bn' + str(stage) + block + '_branch'\n",
    "\n",
    "    x = layers.Conv2D(filters1, (1, 1),\n",
    "                      kernel_initializer='he_normal',\n",
    "                      name=conv_name_base + '2a')(input_tensor)\n",
    "    x = layers.BatchNormalization(axis=bn_axis, name=bn_name_base + '2a')(x)\n",
    "    x = layers.Activation('relu')(x)\n",
    "\n",
    "    x = layers.Conv2D(filters2, kernel_size,\n",
    "                      padding='same',\n",
    "                      kernel_initializer='he_normal',\n",
    "                      name=conv_name_base + '2b')(x)\n",
    "    x = layers.BatchNormalization(axis=bn_axis, name=bn_name_base + '2b')(x)\n",
    "    x = layers.Activation('relu')(x)\n",
    "\n",
    "    x = layers.Conv2D(filters3, (1, 1),\n",
    "                      kernel_initializer='he_normal',\n",
    "                      name=conv_name_base + '2c')(x)\n",
    "    x = layers.BatchNormalization(axis=bn_axis, name=bn_name_base + '2c')(x)\n",
    "\n",
    "    x = layers.add([x, input_tensor])\n",
    "    x = layers.Activation('relu')(x)\n",
    "    return x\n",
    "\n",
    "\n",
    "def conv_block(input_tensor,\n",
    "               kernel_size,\n",
    "               filters,\n",
    "               stage,\n",
    "               block,\n",
    "               strides=(2, 2)):\n",
    "    \"\"\"A block that has a conv layer at shortcut.\n",
    "    # Arguments\n",
    "        input_tensor: input tensor\n",
    "        kernel_size: default 3, the kernel size of\n",
    "            middle conv layer at main path\n",
    "        filters: list of integers, the filters of 3 conv layer at main path\n",
    "        stage: integer, current stage label, used for generating layer names\n",
    "        block: 'a','b'..., current block label, used for generating layer names\n",
    "        strides: Strides for the first conv layer in the block.\n",
    "    # Returns\n",
    "        Output tensor for the block.\n",
    "    Note that from stage 3,\n",
    "    the first conv layer at main path is with strides=(2, 2)\n",
    "    And the shortcut should have strides=(2, 2) as well\n",
    "    \"\"\"\n",
    "    filters1, filters2, filters3 = filters\n",
    "    if backend.image_data_format() == 'channels_last':\n",
    "        bn_axis = 3\n",
    "    else:\n",
    "        bn_axis = 1\n",
    "    conv_name_base = 'res' + str(stage) + block + '_branch'\n",
    "    bn_name_base = 'bn' + str(stage) + block + '_branch'\n",
    "\n",
    "    x = layers.Conv2D(filters1, (1, 1), strides=strides,\n",
    "                      kernel_initializer='he_normal',\n",
    "                      name=conv_name_base + '2a')(input_tensor)\n",
    "    x = layers.BatchNormalization(axis=bn_axis, name=bn_name_base + '2a')(x)\n",
    "    x = layers.Activation('relu')(x)\n",
    "\n",
    "    x = layers.Conv2D(filters2, kernel_size, padding='same',\n",
    "                      kernel_initializer='he_normal',\n",
    "                      name=conv_name_base + '2b')(x)\n",
    "    x = layers.BatchNormalization(axis=bn_axis, name=bn_name_base + '2b')(x)\n",
    "    x = layers.Activation('relu')(x)\n",
    "\n",
    "    x = layers.Conv2D(filters3, (1, 1),\n",
    "                      kernel_initializer='he_normal',\n",
    "                      name=conv_name_base + '2c')(x)\n",
    "    x = layers.BatchNormalization(axis=bn_axis, name=bn_name_base + '2c')(x)\n",
    "\n",
    "    shortcut = layers.Conv2D(filters3, (1, 1), strides=strides,\n",
    "                             kernel_initializer='he_normal',\n",
    "                             name=conv_name_base + '1')(input_tensor)\n",
    "    shortcut = layers.BatchNormalization(\n",
    "        axis=bn_axis, name=bn_name_base + '1')(shortcut)\n",
    "\n",
    "    x = layers.add([x, shortcut])\n",
    "    x = layers.Activation('relu')(x)\n",
    "    return x\n",
    "\n",
    "\n",
    "def ResNet50(include_top=True,\n",
    "             weights='imagenet',\n",
    "             input_tensor=None,\n",
    "             input_shape=None,\n",
    "             pooling=None,\n",
    "             classes=1000,\n",
    "             **kwargs):\n",
    "    \"\"\"Instantiates the ResNet50 architecture.\n",
    "    Optionally loads weights pre-trained on ImageNet.\n",
    "    Note that the data format convention used by the model is\n",
    "    the one specified in your Keras config at `~/.keras/keras.json`.\n",
    "    # Arguments\n",
    "        include_top: whether to include the fully-connected\n",
    "            layer at the top of the network.\n",
    "        weights: one of `None` (random initialization),\n",
    "              'imagenet' (pre-training on ImageNet),\n",
    "              or the path to the weights file to be loaded.\n",
    "        input_tensor: optional Keras tensor (i.e. output of `layers.Input()`)\n",
    "            to use as image input for the model.\n",
    "        input_shape: optional shape tuple, only to be specified\n",
    "            if `include_top` is False (otherwise the input shape\n",
    "            has to be `(224, 224, 3)` (with `channels_last` data format)\n",
    "            or `(3, 224, 224)` (with `channels_first` data format).\n",
    "            It should have exactly 3 inputs channels,\n",
    "            and width and height should be no smaller than 197.\n",
    "            E.g. `(200, 200, 3)` would be one valid value.\n",
    "        pooling: Optional pooling mode for feature extraction\n",
    "            when `include_top` is `False`.\n",
    "            - `None` means that the output of the model will be\n",
    "                the 4D tensor output of the\n",
    "                last convolutional block.\n",
    "            - `avg` means that global average pooling\n",
    "                will be applied to the output of the\n",
    "                last convolutional block, and thus\n",
    "                the output of the model will be a 2D tensor.\n",
    "            - `max` means that global max pooling will\n",
    "                be applied.\n",
    "        classes: optional number of classes to classify images\n",
    "            into, only to be specified if `include_top` is True, and\n",
    "            if no `weights` argument is specified.\n",
    "    # Returns\n",
    "        A Keras model instance.\n",
    "    # Raises\n",
    "        ValueError: in case of invalid argument for `weights`,\n",
    "            or invalid input shape.\n",
    "    \"\"\"\n",
    "\n",
    "    bn_axis = -1\n",
    "\n",
    "    img_input = Input(shape=input_shape)\n",
    "    x = layers.ZeroPadding2D(padding=(3, 3), name='conv1_pad')(img_input)\n",
    "    x = layers.Conv2D(64, (7, 7),\n",
    "                      strides=(2, 2),\n",
    "                      padding='valid',\n",
    "                      kernel_initializer='he_normal',\n",
    "                      name='conv1_NEW')(x)\n",
    "    x = layers.BatchNormalization(axis=bn_axis, name='bn_conv1')(x)\n",
    "    x = layers.Activation('relu')(x)\n",
    "    x = layers.ZeroPadding2D(padding=(1, 1), name='pool1_pad')(x)\n",
    "    x = layers.MaxPooling2D((3, 3), strides=(2, 2))(x)\n",
    "\n",
    "    x = conv_block(x, 3, [64, 64, 256], stage=2, block='a', strides=(1, 1))\n",
    "    x = identity_block(x, 3, [64, 64, 256], stage=2, block='b')\n",
    "    x = identity_block(x, 3, [64, 64, 256], stage=2, block='c')\n",
    "\n",
    "    x = conv_block(x, 3, [128, 128, 512], stage=3, block='a')\n",
    "    x = identity_block(x, 3, [128, 128, 512], stage=3, block='b')\n",
    "    x = identity_block(x, 3, [128, 128, 512], stage=3, block='c')\n",
    "    x = identity_block(x, 3, [128, 128, 512], stage=3, block='d')\n",
    "\n",
    "    x = conv_block(x, 3, [256, 256, 1024], stage=4, block='a')\n",
    "    x = identity_block(x, 3, [256, 256, 1024], stage=4, block='b')\n",
    "    x = identity_block(x, 3, [256, 256, 1024], stage=4, block='c')\n",
    "    x = identity_block(x, 3, [256, 256, 1024], stage=4, block='d')\n",
    "    x = identity_block(x, 3, [256, 256, 1024], stage=4, block='e')\n",
    "    x = identity_block(x, 3, [256, 256, 1024], stage=4, block='f')\n",
    "\n",
    "    x = conv_block(x, 3, [512, 512, 2048], stage=5, block='a')\n",
    "    x = identity_block(x, 3, [512, 512, 2048], stage=5, block='b')\n",
    "    x = identity_block(x, 3, [512, 512, 2048], stage=5, block='c')\n",
    "\n",
    "    if include_top:\n",
    "        x = layers.GlobalAveragePooling2D(name='avg_pool')(x)\n",
    "        x = layers.Dense(classes, activation='softmax', name='fc1000')(x)\n",
    "    else:\n",
    "        if pooling == 'avg':\n",
    "            x = layers.GlobalAveragePooling2D()(x)\n",
    "        elif pooling == 'max':\n",
    "            x = layers.GlobalMaxPooling2D()(x)\n",
    "        else:\n",
    "            warnings.warn('The output shape of `ResNet50(include_top=False)` '\n",
    "                          'has been changed since Keras 2.2.0.')\n",
    "\n",
    "    # Ensure that the model takes into account\n",
    "    # any potential predecessors of `input_tensor`.\n",
    "    if input_tensor is not None:\n",
    "        inputs = keras_utils.get_source_inputs(input_tensor)\n",
    "    else:\n",
    "        inputs = img_input\n",
    "    # Create model.\n",
    "    model = models.Model(inputs, x, name='resnet50')\n",
    "\n",
    "    # Load weights.\n",
    "    if weights == 'imagenet':\n",
    "        if include_top:\n",
    "            weights_path = data_utils.get_file(\n",
    "                'resnet50_weights_tf_dim_ordering_tf_kernels.h5',\n",
    "                WEIGHTS_PATH,\n",
    "                cache_subdir='models',\n",
    "                md5_hash='a7b3fe01876f51b976af0dea6bc144eb')\n",
    "        else:\n",
    "            weights_path = data_utils.get_file(\n",
    "                'resnet50_weights_tf_dim_ordering_tf_kernels_notop.h5',\n",
    "                WEIGHTS_PATH_NO_TOP,\n",
    "                cache_subdir='models',\n",
    "                md5_hash='a268eb855778b3df3c7506639542a6af')\n",
    "        model.load_weights(weights_path, by_name=True)\n",
    "\n",
    "    elif weights is not None:\n",
    "        model.load_weights(weights, by_name=True)\n",
    "\n",
    "    return model\n",
    "\n",
    "model = ResNet50(input_shape=(583, 915, 4), include_top=False, weights='imagenet')\n",
    "print(model.summary())"
   ]
  },
  {
   "cell_type": "code",
   "execution_count": null,
   "metadata": {},
   "outputs": [],
   "source": []
  },
  {
   "cell_type": "code",
   "execution_count": 28,
   "metadata": {},
   "outputs": [
    {
     "name": "stdout",
     "output_type": "stream",
     "text": [
      "Epoch 1/10\n",
      "   14/17282 [..............................] - ETA: 6:19:31 - loss: 5.3468 - accuracy: 0.0580"
     ]
    },
    {
     "ename": "KeyboardInterrupt",
     "evalue": "",
     "output_type": "error",
     "traceback": [
      "\u001b[0;31m---------------------------------------------------------------------------\u001b[0m",
      "\u001b[0;31mKeyboardInterrupt\u001b[0m                         Traceback (most recent call last)",
      "\u001b[0;32m<ipython-input-28-7310b3707398>\u001b[0m in \u001b[0;36m<module>\u001b[0;34m\u001b[0m\n\u001b[1;32m     17\u001b[0m \u001b[0;31m# not used during training\u001b[0m\u001b[0;34m\u001b[0m\u001b[0;34m\u001b[0m\u001b[0;34m\u001b[0m\u001b[0m\n\u001b[1;32m     18\u001b[0m \u001b[0;34m\u001b[0m\u001b[0m\n\u001b[0;32m---> 19\u001b[0;31m model1.fit(traingen, \n\u001b[0m\u001b[1;32m     20\u001b[0m             \u001b[0msteps_per_epoch\u001b[0m\u001b[0;34m=\u001b[0m\u001b[0mtrain_steps\u001b[0m\u001b[0;34m,\u001b[0m\u001b[0;34m\u001b[0m\u001b[0;34m\u001b[0m\u001b[0m\n\u001b[1;32m     21\u001b[0m             \u001b[0mvalidation_data\u001b[0m\u001b[0;34m=\u001b[0m\u001b[0mvalgen\u001b[0m\u001b[0;34m,\u001b[0m\u001b[0;34m\u001b[0m\u001b[0;34m\u001b[0m\u001b[0m\n",
      "\u001b[0;32m/media/beta/mitko-beps/mandy/anaconda3/lib/python3.8/site-packages/tensorflow/python/keras/engine/training.py\u001b[0m in \u001b[0;36m_method_wrapper\u001b[0;34m(self, *args, **kwargs)\u001b[0m\n\u001b[1;32m     64\u001b[0m   \u001b[0;32mdef\u001b[0m \u001b[0m_method_wrapper\u001b[0m\u001b[0;34m(\u001b[0m\u001b[0mself\u001b[0m\u001b[0;34m,\u001b[0m \u001b[0;34m*\u001b[0m\u001b[0margs\u001b[0m\u001b[0;34m,\u001b[0m \u001b[0;34m**\u001b[0m\u001b[0mkwargs\u001b[0m\u001b[0;34m)\u001b[0m\u001b[0;34m:\u001b[0m\u001b[0;34m\u001b[0m\u001b[0;34m\u001b[0m\u001b[0m\n\u001b[1;32m     65\u001b[0m     \u001b[0;32mif\u001b[0m \u001b[0;32mnot\u001b[0m \u001b[0mself\u001b[0m\u001b[0;34m.\u001b[0m\u001b[0m_in_multi_worker_mode\u001b[0m\u001b[0;34m(\u001b[0m\u001b[0;34m)\u001b[0m\u001b[0;34m:\u001b[0m  \u001b[0;31m# pylint: disable=protected-access\u001b[0m\u001b[0;34m\u001b[0m\u001b[0;34m\u001b[0m\u001b[0m\n\u001b[0;32m---> 66\u001b[0;31m       \u001b[0;32mreturn\u001b[0m \u001b[0mmethod\u001b[0m\u001b[0;34m(\u001b[0m\u001b[0mself\u001b[0m\u001b[0;34m,\u001b[0m \u001b[0;34m*\u001b[0m\u001b[0margs\u001b[0m\u001b[0;34m,\u001b[0m \u001b[0;34m**\u001b[0m\u001b[0mkwargs\u001b[0m\u001b[0;34m)\u001b[0m\u001b[0;34m\u001b[0m\u001b[0;34m\u001b[0m\u001b[0m\n\u001b[0m\u001b[1;32m     67\u001b[0m \u001b[0;34m\u001b[0m\u001b[0m\n\u001b[1;32m     68\u001b[0m     \u001b[0;31m# Running inside `run_distribute_coordinator` already.\u001b[0m\u001b[0;34m\u001b[0m\u001b[0;34m\u001b[0m\u001b[0;34m\u001b[0m\u001b[0m\n",
      "\u001b[0;32m/media/beta/mitko-beps/mandy/anaconda3/lib/python3.8/site-packages/tensorflow/python/keras/engine/training.py\u001b[0m in \u001b[0;36mfit\u001b[0;34m(self, x, y, batch_size, epochs, verbose, callbacks, validation_split, validation_data, shuffle, class_weight, sample_weight, initial_epoch, steps_per_epoch, validation_steps, validation_batch_size, validation_freq, max_queue_size, workers, use_multiprocessing)\u001b[0m\n\u001b[1;32m    846\u001b[0m                 batch_size=batch_size):\n\u001b[1;32m    847\u001b[0m               \u001b[0mcallbacks\u001b[0m\u001b[0;34m.\u001b[0m\u001b[0mon_train_batch_begin\u001b[0m\u001b[0;34m(\u001b[0m\u001b[0mstep\u001b[0m\u001b[0;34m)\u001b[0m\u001b[0;34m\u001b[0m\u001b[0;34m\u001b[0m\u001b[0m\n\u001b[0;32m--> 848\u001b[0;31m               \u001b[0mtmp_logs\u001b[0m \u001b[0;34m=\u001b[0m \u001b[0mtrain_function\u001b[0m\u001b[0;34m(\u001b[0m\u001b[0miterator\u001b[0m\u001b[0;34m)\u001b[0m\u001b[0;34m\u001b[0m\u001b[0;34m\u001b[0m\u001b[0m\n\u001b[0m\u001b[1;32m    849\u001b[0m               \u001b[0;31m# Catch OutOfRangeError for Datasets of unknown size.\u001b[0m\u001b[0;34m\u001b[0m\u001b[0;34m\u001b[0m\u001b[0;34m\u001b[0m\u001b[0m\n\u001b[1;32m    850\u001b[0m               \u001b[0;31m# This blocks until the batch has finished executing.\u001b[0m\u001b[0;34m\u001b[0m\u001b[0;34m\u001b[0m\u001b[0;34m\u001b[0m\u001b[0m\n",
      "\u001b[0;32m/media/beta/mitko-beps/mandy/anaconda3/lib/python3.8/site-packages/tensorflow/python/eager/def_function.py\u001b[0m in \u001b[0;36m__call__\u001b[0;34m(self, *args, **kwds)\u001b[0m\n\u001b[1;32m    578\u001b[0m         \u001b[0mxla_context\u001b[0m\u001b[0;34m.\u001b[0m\u001b[0mExit\u001b[0m\u001b[0;34m(\u001b[0m\u001b[0;34m)\u001b[0m\u001b[0;34m\u001b[0m\u001b[0;34m\u001b[0m\u001b[0m\n\u001b[1;32m    579\u001b[0m     \u001b[0;32melse\u001b[0m\u001b[0;34m:\u001b[0m\u001b[0;34m\u001b[0m\u001b[0;34m\u001b[0m\u001b[0m\n\u001b[0;32m--> 580\u001b[0;31m       \u001b[0mresult\u001b[0m \u001b[0;34m=\u001b[0m \u001b[0mself\u001b[0m\u001b[0;34m.\u001b[0m\u001b[0m_call\u001b[0m\u001b[0;34m(\u001b[0m\u001b[0;34m*\u001b[0m\u001b[0margs\u001b[0m\u001b[0;34m,\u001b[0m \u001b[0;34m**\u001b[0m\u001b[0mkwds\u001b[0m\u001b[0;34m)\u001b[0m\u001b[0;34m\u001b[0m\u001b[0;34m\u001b[0m\u001b[0m\n\u001b[0m\u001b[1;32m    581\u001b[0m \u001b[0;34m\u001b[0m\u001b[0m\n\u001b[1;32m    582\u001b[0m     \u001b[0;32mif\u001b[0m \u001b[0mtracing_count\u001b[0m \u001b[0;34m==\u001b[0m \u001b[0mself\u001b[0m\u001b[0;34m.\u001b[0m\u001b[0m_get_tracing_count\u001b[0m\u001b[0;34m(\u001b[0m\u001b[0;34m)\u001b[0m\u001b[0;34m:\u001b[0m\u001b[0;34m\u001b[0m\u001b[0;34m\u001b[0m\u001b[0m\n",
      "\u001b[0;32m/media/beta/mitko-beps/mandy/anaconda3/lib/python3.8/site-packages/tensorflow/python/eager/def_function.py\u001b[0m in \u001b[0;36m_call\u001b[0;34m(self, *args, **kwds)\u001b[0m\n\u001b[1;32m    609\u001b[0m       \u001b[0;31m# In this case we have created variables on the first call, so we run the\u001b[0m\u001b[0;34m\u001b[0m\u001b[0;34m\u001b[0m\u001b[0;34m\u001b[0m\u001b[0m\n\u001b[1;32m    610\u001b[0m       \u001b[0;31m# defunned version which is guaranteed to never create variables.\u001b[0m\u001b[0;34m\u001b[0m\u001b[0;34m\u001b[0m\u001b[0;34m\u001b[0m\u001b[0m\n\u001b[0;32m--> 611\u001b[0;31m       \u001b[0;32mreturn\u001b[0m \u001b[0mself\u001b[0m\u001b[0;34m.\u001b[0m\u001b[0m_stateless_fn\u001b[0m\u001b[0;34m(\u001b[0m\u001b[0;34m*\u001b[0m\u001b[0margs\u001b[0m\u001b[0;34m,\u001b[0m \u001b[0;34m**\u001b[0m\u001b[0mkwds\u001b[0m\u001b[0;34m)\u001b[0m  \u001b[0;31m# pylint: disable=not-callable\u001b[0m\u001b[0;34m\u001b[0m\u001b[0;34m\u001b[0m\u001b[0m\n\u001b[0m\u001b[1;32m    612\u001b[0m     \u001b[0;32melif\u001b[0m \u001b[0mself\u001b[0m\u001b[0;34m.\u001b[0m\u001b[0m_stateful_fn\u001b[0m \u001b[0;32mis\u001b[0m \u001b[0;32mnot\u001b[0m \u001b[0;32mNone\u001b[0m\u001b[0;34m:\u001b[0m\u001b[0;34m\u001b[0m\u001b[0;34m\u001b[0m\u001b[0m\n\u001b[1;32m    613\u001b[0m       \u001b[0;31m# Release the lock early so that multiple threads can perform the call\u001b[0m\u001b[0;34m\u001b[0m\u001b[0;34m\u001b[0m\u001b[0;34m\u001b[0m\u001b[0m\n",
      "\u001b[0;32m/media/beta/mitko-beps/mandy/anaconda3/lib/python3.8/site-packages/tensorflow/python/eager/function.py\u001b[0m in \u001b[0;36m__call__\u001b[0;34m(self, *args, **kwargs)\u001b[0m\n\u001b[1;32m   2418\u001b[0m     \u001b[0;32mwith\u001b[0m \u001b[0mself\u001b[0m\u001b[0;34m.\u001b[0m\u001b[0m_lock\u001b[0m\u001b[0;34m:\u001b[0m\u001b[0;34m\u001b[0m\u001b[0;34m\u001b[0m\u001b[0m\n\u001b[1;32m   2419\u001b[0m       \u001b[0mgraph_function\u001b[0m\u001b[0;34m,\u001b[0m \u001b[0margs\u001b[0m\u001b[0;34m,\u001b[0m \u001b[0mkwargs\u001b[0m \u001b[0;34m=\u001b[0m \u001b[0mself\u001b[0m\u001b[0;34m.\u001b[0m\u001b[0m_maybe_define_function\u001b[0m\u001b[0;34m(\u001b[0m\u001b[0margs\u001b[0m\u001b[0;34m,\u001b[0m \u001b[0mkwargs\u001b[0m\u001b[0;34m)\u001b[0m\u001b[0;34m\u001b[0m\u001b[0;34m\u001b[0m\u001b[0m\n\u001b[0;32m-> 2420\u001b[0;31m     \u001b[0;32mreturn\u001b[0m \u001b[0mgraph_function\u001b[0m\u001b[0;34m.\u001b[0m\u001b[0m_filtered_call\u001b[0m\u001b[0;34m(\u001b[0m\u001b[0margs\u001b[0m\u001b[0;34m,\u001b[0m \u001b[0mkwargs\u001b[0m\u001b[0;34m)\u001b[0m  \u001b[0;31m# pylint: disable=protected-access\u001b[0m\u001b[0;34m\u001b[0m\u001b[0;34m\u001b[0m\u001b[0m\n\u001b[0m\u001b[1;32m   2421\u001b[0m \u001b[0;34m\u001b[0m\u001b[0m\n\u001b[1;32m   2422\u001b[0m   \u001b[0;34m@\u001b[0m\u001b[0mproperty\u001b[0m\u001b[0;34m\u001b[0m\u001b[0;34m\u001b[0m\u001b[0m\n",
      "\u001b[0;32m/media/beta/mitko-beps/mandy/anaconda3/lib/python3.8/site-packages/tensorflow/python/eager/function.py\u001b[0m in \u001b[0;36m_filtered_call\u001b[0;34m(self, args, kwargs)\u001b[0m\n\u001b[1;32m   1659\u001b[0m       \u001b[0;31m`\u001b[0m\u001b[0margs\u001b[0m\u001b[0;31m`\u001b[0m \u001b[0;32mand\u001b[0m\u001b[0;31m \u001b[0m\u001b[0;31m`\u001b[0m\u001b[0mkwargs\u001b[0m\u001b[0;31m`\u001b[0m\u001b[0;34m.\u001b[0m\u001b[0;34m\u001b[0m\u001b[0;34m\u001b[0m\u001b[0m\n\u001b[1;32m   1660\u001b[0m     \"\"\"\n\u001b[0;32m-> 1661\u001b[0;31m     return self._call_flat(\n\u001b[0m\u001b[1;32m   1662\u001b[0m         (t for t in nest.flatten((args, kwargs), expand_composites=True)\n\u001b[1;32m   1663\u001b[0m          if isinstance(t, (ops.Tensor,\n",
      "\u001b[0;32m/media/beta/mitko-beps/mandy/anaconda3/lib/python3.8/site-packages/tensorflow/python/eager/function.py\u001b[0m in \u001b[0;36m_call_flat\u001b[0;34m(self, args, captured_inputs, cancellation_manager)\u001b[0m\n\u001b[1;32m   1743\u001b[0m         and executing_eagerly):\n\u001b[1;32m   1744\u001b[0m       \u001b[0;31m# No tape is watching; skip to running the function.\u001b[0m\u001b[0;34m\u001b[0m\u001b[0;34m\u001b[0m\u001b[0;34m\u001b[0m\u001b[0m\n\u001b[0;32m-> 1745\u001b[0;31m       return self._build_call_outputs(self._inference_function.call(\n\u001b[0m\u001b[1;32m   1746\u001b[0m           ctx, args, cancellation_manager=cancellation_manager))\n\u001b[1;32m   1747\u001b[0m     forward_backward = self._select_forward_and_backward_functions(\n",
      "\u001b[0;32m/media/beta/mitko-beps/mandy/anaconda3/lib/python3.8/site-packages/tensorflow/python/eager/function.py\u001b[0m in \u001b[0;36mcall\u001b[0;34m(self, ctx, args, cancellation_manager)\u001b[0m\n\u001b[1;32m    591\u001b[0m       \u001b[0;32mwith\u001b[0m \u001b[0m_InterpolateFunctionError\u001b[0m\u001b[0;34m(\u001b[0m\u001b[0mself\u001b[0m\u001b[0;34m)\u001b[0m\u001b[0;34m:\u001b[0m\u001b[0;34m\u001b[0m\u001b[0;34m\u001b[0m\u001b[0m\n\u001b[1;32m    592\u001b[0m         \u001b[0;32mif\u001b[0m \u001b[0mcancellation_manager\u001b[0m \u001b[0;32mis\u001b[0m \u001b[0;32mNone\u001b[0m\u001b[0;34m:\u001b[0m\u001b[0;34m\u001b[0m\u001b[0;34m\u001b[0m\u001b[0m\n\u001b[0;32m--> 593\u001b[0;31m           outputs = execute.execute(\n\u001b[0m\u001b[1;32m    594\u001b[0m               \u001b[0mstr\u001b[0m\u001b[0;34m(\u001b[0m\u001b[0mself\u001b[0m\u001b[0;34m.\u001b[0m\u001b[0msignature\u001b[0m\u001b[0;34m.\u001b[0m\u001b[0mname\u001b[0m\u001b[0;34m)\u001b[0m\u001b[0;34m,\u001b[0m\u001b[0;34m\u001b[0m\u001b[0;34m\u001b[0m\u001b[0m\n\u001b[1;32m    595\u001b[0m               \u001b[0mnum_outputs\u001b[0m\u001b[0;34m=\u001b[0m\u001b[0mself\u001b[0m\u001b[0;34m.\u001b[0m\u001b[0m_num_outputs\u001b[0m\u001b[0;34m,\u001b[0m\u001b[0;34m\u001b[0m\u001b[0;34m\u001b[0m\u001b[0m\n",
      "\u001b[0;32m/media/beta/mitko-beps/mandy/anaconda3/lib/python3.8/site-packages/tensorflow/python/eager/execute.py\u001b[0m in \u001b[0;36mquick_execute\u001b[0;34m(op_name, num_outputs, inputs, attrs, ctx, name)\u001b[0m\n\u001b[1;32m     57\u001b[0m   \u001b[0;32mtry\u001b[0m\u001b[0;34m:\u001b[0m\u001b[0;34m\u001b[0m\u001b[0;34m\u001b[0m\u001b[0m\n\u001b[1;32m     58\u001b[0m     \u001b[0mctx\u001b[0m\u001b[0;34m.\u001b[0m\u001b[0mensure_initialized\u001b[0m\u001b[0;34m(\u001b[0m\u001b[0;34m)\u001b[0m\u001b[0;34m\u001b[0m\u001b[0;34m\u001b[0m\u001b[0m\n\u001b[0;32m---> 59\u001b[0;31m     tensors = pywrap_tfe.TFE_Py_Execute(ctx._handle, device_name, op_name,\n\u001b[0m\u001b[1;32m     60\u001b[0m                                         inputs, attrs, num_outputs)\n\u001b[1;32m     61\u001b[0m   \u001b[0;32mexcept\u001b[0m \u001b[0mcore\u001b[0m\u001b[0;34m.\u001b[0m\u001b[0m_NotOkStatusException\u001b[0m \u001b[0;32mas\u001b[0m \u001b[0me\u001b[0m\u001b[0;34m:\u001b[0m\u001b[0;34m\u001b[0m\u001b[0;34m\u001b[0m\u001b[0m\n",
      "\u001b[0;31mKeyboardInterrupt\u001b[0m: "
     ]
    }
   ],
   "source": [
    "# save the model and weights\n",
    "model_name = 'Resnet_test'\n",
    "model_filepath = model_name + '.json'\n",
    "weights_filepath = model_name + '_weights.hdf5'\n",
    "\n",
    "model_json = model1.to_json() # serialize model to JSON\n",
    "with open(model_filepath, 'w') as json_file:\n",
    "    json_file.write(model_json)\n",
    "\n",
    "\n",
    "# define the model checkpoint and Tensorboard callbacks\n",
    "checkpoint = ModelCheckpoint(weights_filepath, monitor='val_loss', verbose=1, save_best_only=True, mode='min')\n",
    "tensorboard = TensorBoard(os.path.join('logs', model_name))\n",
    "callbacks_list = [checkpoint, tensorboard]\n",
    "\n",
    "# since the model is trained for only 10 \"mini-epochs\", i.e. half of the data is\n",
    "# not used during training\n",
    "\n",
    "model1.fit(traingen, \n",
    "            steps_per_epoch=train_steps,\n",
    "            validation_data=valgen,\n",
    "            validation_steps=val_steps,\n",
    "            epochs=10,\n",
    "            batch_size = 32,\n",
    "            callbacks=callbacks_list)"
   ]
  },
  {
   "cell_type": "code",
   "execution_count": null,
   "metadata": {},
   "outputs": [],
   "source": [
    "history = model.fit_generator(train_gen, steps_per_epoch=train_steps, \n",
    "                    validation_data=val_gen,\n",
    "                    validation_steps=val_steps,\n",
    "                    epochs=3,\n",
    "                    callbacks=callbacks_list)"
   ]
  },
  {
   "cell_type": "code",
   "execution_count": null,
   "metadata": {},
   "outputs": [],
   "source": [
    "#from tensorflow.keras.applications.mobilenet_v2 import MobileNetV2, preprocess_input\n",
    "from tensorflow.keras.applications.resnet50 import ResNet50, preprocess_input"
   ]
  },
  {
   "cell_type": "code",
   "execution_count": null,
   "metadata": {},
   "outputs": [],
   "source": [
    "inputs = Input((None,None, 4))\n",
    "classes = 19\n",
    "\n",
    "model = ResNet50(include_top=False, input_tensor=inputs, weights= None)\n",
    "for layer in model.layers:\n",
    "    layer.trainable = False    #Pretrained model is used as feature extractor and not for fine-tuning, the weights of the model are frozen.\n",
    "\n",
    "X = GlobalAveragePooling2D()(model.output)\n",
    "X = BatchNormalization()(X)\n",
    "\n",
    "#output layer\n",
    "X = Dense(classes, activation = 'softmax', name='RN'+ str(classes))(X)\n",
    "    \n",
    "#create model\n",
    "model = Model(inputs, outputs = X)\n",
    "model.compile(SGD(lr=0.001, momentum=0.95), loss = loss, metrics=['accuracy'])\n",
    "\n",
    "model.summary()"
   ]
  },
  {
   "cell_type": "code",
   "execution_count": null,
   "metadata": {},
   "outputs": [],
   "source": []
  },
  {
   "cell_type": "code",
   "execution_count": null,
   "metadata": {},
   "outputs": [],
   "source": []
  },
  {
   "cell_type": "code",
   "execution_count": null,
   "metadata": {},
   "outputs": [],
   "source": []
  },
  {
   "cell_type": "code",
   "execution_count": null,
   "metadata": {},
   "outputs": [],
   "source": []
  },
  {
   "cell_type": "code",
   "execution_count": null,
   "metadata": {},
   "outputs": [],
   "source": []
  },
  {
   "cell_type": "code",
   "execution_count": null,
   "metadata": {},
   "outputs": [],
   "source": []
  },
  {
   "cell_type": "code",
   "execution_count": null,
   "metadata": {},
   "outputs": [],
   "source": []
  },
  {
   "cell_type": "code",
   "execution_count": null,
   "metadata": {},
   "outputs": [],
   "source": []
  },
  {
   "cell_type": "code",
   "execution_count": null,
   "metadata": {},
   "outputs": [],
   "source": []
  },
  {
   "cell_type": "code",
   "execution_count": null,
   "metadata": {},
   "outputs": [],
   "source": [
    "\n"
   ]
  },
  {
   "cell_type": "markdown",
   "metadata": {},
   "source": [
    "# Model"
   ]
  },
  {
   "cell_type": "code",
   "execution_count": null,
   "metadata": {},
   "outputs": [],
   "source": []
  },
  {
   "cell_type": "code",
   "execution_count": null,
   "metadata": {},
   "outputs": [],
   "source": []
  },
  {
   "cell_type": "code",
   "execution_count": null,
   "metadata": {},
   "outputs": [],
   "source": []
  },
  {
   "cell_type": "code",
   "execution_count": null,
   "metadata": {},
   "outputs": [],
   "source": []
  },
  {
   "cell_type": "markdown",
   "metadata": {},
   "source": []
  }
 ],
 "metadata": {
  "kernelspec": {
   "display_name": "Python 3",
   "language": "python",
   "name": "python3"
  },
  "language_info": {
   "codemirror_mode": {
    "name": "ipython",
    "version": 3
   },
   "file_extension": ".py",
   "mimetype": "text/x-python",
   "name": "python",
   "nbconvert_exporter": "python",
   "pygments_lexer": "ipython3",
   "version": "3.8.5"
  }
 },
 "nbformat": 4,
 "nbformat_minor": 4
}
