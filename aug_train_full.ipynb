{
 "cells": [
  {
   "cell_type": "code",
   "execution_count": 1,
   "metadata": {},
   "outputs": [],
   "source": [
    "import tensorflow as tf\n"
   ]
  },
  {
   "cell_type": "code",
   "execution_count": 2,
   "metadata": {},
   "outputs": [
    {
     "data": {
      "text/plain": [
       "[PhysicalDevice(name='/physical_device:GPU:0', device_type='GPU'),\n",
       " PhysicalDevice(name='/physical_device:GPU:1', device_type='GPU'),\n",
       " PhysicalDevice(name='/physical_device:GPU:2', device_type='GPU'),\n",
       " PhysicalDevice(name='/physical_device:GPU:3', device_type='GPU'),\n",
       " PhysicalDevice(name='/physical_device:GPU:4', device_type='GPU'),\n",
       " PhysicalDevice(name='/physical_device:GPU:5', device_type='GPU'),\n",
       " PhysicalDevice(name='/physical_device:GPU:6', device_type='GPU'),\n",
       " PhysicalDevice(name='/physical_device:GPU:7', device_type='GPU')]"
      ]
     },
     "execution_count": 2,
     "metadata": {},
     "output_type": "execute_result"
    }
   ],
   "source": [
    "tf.config.list_physical_devices('GPU')"
   ]
  },
  {
   "cell_type": "code",
   "execution_count": 3,
   "metadata": {},
   "outputs": [],
   "source": [
    "import os\n",
    "os.environ[\"CUDA_VISIBLE_DEVICES\"]=\"7\"\n",
    "tf_device='/gpu:0'"
   ]
  },
  {
   "cell_type": "code",
   "execution_count": 4,
   "metadata": {},
   "outputs": [],
   "source": [
    "import pandas as pd\n",
    "import numpy as np\n",
    "import os \n",
    "import operator\n",
    "import albumentations as A\n",
    "import imageio\n",
    "#import ipyplot\n",
    "import matplotlib.pyplot as plt\n",
    "import seaborn as sns\n",
    "import sys\n",
    "%matplotlib inline\n",
    "\n",
    "from PIL import Image"
   ]
  },
  {
   "cell_type": "code",
   "execution_count": 5,
   "metadata": {},
   "outputs": [],
   "source": [
    "def get_img_id(df): \n",
    "    path_mt = []\n",
    "    path_nu = []\n",
    "    path_er = [] \n",
    "    path_tp = []\n",
    "\n",
    "    for i, row in df[0:len(df)].iterrows(): \n",
    "        img = row.ID\n",
    "        ids = os.path.basename(img)\n",
    "        count = row.n_cells\n",
    "        for i in range(1, count+1):\n",
    "            path_mt.append(ids+\"_\"+str(i)+\"_mt.png\")\n",
    "            path_nu.append(ids+\"_\"+str(i)+\"_nu.png\")\n",
    "            path_er.append(ids+\"_\"+str(i)+\"_er.png\")\n",
    "            path_tp.append(ids+\"_\"+str(i)+\"_tp.png\")\n",
    "    return path_mt, path_nu, path_er, path_tp\n"
   ]
  },
  {
   "cell_type": "code",
   "execution_count": 6,
   "metadata": {},
   "outputs": [],
   "source": [
    "def augment(img_path, img_id_mt, img_id_nu, img_id_er, img_id_tp, times): \n",
    "    transform = A.Compose([\n",
    "\n",
    "        A.Rotate(limit = 90,p=0.5),\n",
    "        \n",
    "        A.Transpose(p=0.5),\n",
    "\n",
    "        A.HorizontalFlip(p=0.5),\n",
    "\n",
    "        A.VerticalFlip(p=0.5),\n",
    "\n",
    "        A.ShiftScaleRotate(p=0.5),\n",
    "\n",
    "        A.RandomBrightnessContrast(brightness_limit=(-0.1,0.1), contrast_limit=(-0.1, 0.1), p=0.5)],\n",
    "\n",
    "        \n",
    "        additional_targets = {\"image1\": \"image\", \"image2\": \"image\", \"image3\": \"image\"}, p=1)\n",
    "\n",
    "    img_mt = imageio.imread(img_path+img_id_mt)\n",
    "    img_nu = imageio.imread(img_path+img_id_nu)\n",
    "    img_er = imageio.imread(img_path+img_id_er)\n",
    "    img_tp = imageio.imread(img_path+img_id_tp)\n",
    "\n",
    "    transformed = transform(image = img_mt, image1 = img_nu, image2 = img_er, image3 = img_tp)\n",
    "\n",
    "    transformed_img_mt = transformed[\"image\"]\n",
    "    transformed_img_nu = transformed[\"image1\"]\n",
    "    transformed_img_er = transformed[\"image2\"]\n",
    "    transformed_img_tp = transformed[\"image3\"]\n",
    "\n",
    "    im_mt = Image.fromarray(transformed_img_mt)\n",
    "    im_nu = Image.fromarray(transformed_img_nu)\n",
    "    im_er = Image.fromarray(transformed_img_er)\n",
    "    im_tp = Image.fromarray(transformed_img_tp)\n",
    "\n",
    "    im_mt.save(\"/media/beta/mitko-beps/mandy/aug_train_full/\"+\"aug_\"+ str(times)+\"_\"+img_id_mt)\n",
    "    im_nu.save(\"/media/beta/mitko-beps/mandy/aug_train_full/\"+\"aug_\"+ str(times)+\"_\"+img_id_nu)\n",
    "    im_er.save(\"/media/beta/mitko-beps/mandy/aug_train_full/\"+\"aug_\"+ str(times)+\"_\"+img_id_er)\n",
    "    im_tp.save(\"/media/beta/mitko-beps/mandy/aug_train_full/\"+\"aug_\"+ str(times)+\"_\"+img_id_tp)\n",
    "   \n",
    "    return print(\"saved aug_\"+str(times)+img_id_mt)\n"
   ]
  },
  {
   "cell_type": "markdown",
   "metadata": {},
   "source": [
    "## Input"
   ]
  },
  {
   "cell_type": "code",
   "execution_count": 7,
   "metadata": {},
   "outputs": [],
   "source": [
    "#read in the images and dataframe of segmented cells.\n",
    "img_path = \"../../data/segmented_train/\"\n",
    "df_train_full_segmented = pd.read_csv(\"/media/beta/mitko-beps/heather/CSV/train_full.csv\")\n",
    "#df_train_full_segmented"
   ]
  },
  {
   "cell_type": "code",
   "execution_count": 8,
   "metadata": {},
   "outputs": [
    {
     "data": {
      "image/png": "[encoded data removed]",
      "text/plain": [
       "<Figure size 1080x360 with 1 Axes>"
      ]
     },
     "metadata": {
      "needs_background": "light"
     },
     "output_type": "display_data"
    }
   ],
   "source": [
    "#check the counts\n",
    "full_counts = {}\n",
    "labels = [str(i) for i in range(19)]\n",
    "for lbl in labels:\n",
    "    count=0\n",
    "    for i in df_train_full_segmented.index:\n",
    "        if lbl in df_train_full_segmented['Label'][i].split('|'): \n",
    "            count += 1 * df_train_full_segmented['n_cells'][i]\n",
    "    full_counts[lbl] = count\n",
    "    \n",
    "plt.figure(figsize=(15,5))\n",
    "plt.bar(labels, full_counts.values())\n",
    "\n",
    "for index, value in enumerate(full_counts.values()):\n",
    "    plt.text(index-0.25, value, str(value), fontdict=dict(fontsize=10))\n",
    "\n",
    "plt.title('Train-data full count distribution')\n",
    "plt.xticks(np.arange(len(labels)), labels, rotation=85)\n",
    "plt.show()"
   ]
  },
  {
   "cell_type": "code",
   "execution_count": 10,
   "metadata": {},
   "outputs": [
    {
     "data": {
      "text/plain": [
       "{'11': 4612,\n",
       " '15': 6787,\n",
       " '17': 17850,\n",
       " '10': 22767,\n",
       " '8': 22778,\n",
       " '4': 24350,\n",
       " '9': 26854,\n",
       " '6': 29302,\n",
       " '1': 29808,\n",
       " '18': 33085,\n",
       " '5': 33873,\n",
       " '12': 34545,\n",
       " '3': 35352,\n",
       " '7': 36754,\n",
       " '14': 39959,\n",
       " '2': 45907,\n",
       " '13': 60357,\n",
       " '16': 115020,\n",
       " '0': 176836}"
      ]
     },
     "execution_count": 10,
     "metadata": {},
     "output_type": "execute_result"
    }
   ],
   "source": [
    "dict(sorted(full_counts.items(), key=lambda item: item[1]))"
   ]
  },
  {
   "cell_type": "code",
   "execution_count": 10,
   "metadata": {},
   "outputs": [
    {
     "data": {
      "text/plain": [
       "[0, 1, 0, 0, 1, 0, 1, 0, 1, 1, 1, 6, 0, 0, 0, 4, 0, 1, 0]"
      ]
     },
     "execution_count": 10,
     "metadata": {},
     "output_type": "execute_result"
    }
   ],
   "source": [
    "#Number of augumentation needed - TEST\n",
    "import math\n",
    "def round_down(n, decimals=0):\n",
    "    multiplier = 10 ** decimals\n",
    "    return math.floor(n * multiplier) / multiplier\n",
    "\n",
    "number_aug = []\n",
    "for lbl in labels:\n",
    "    i = int(lbl)\n",
    "    size_wanted = 30000                         #max aantal per label.\n",
    "    size_input = list(full_counts.values())[i]  #lengte van wat er al aanwezig is. \n",
    "    times = round_down(size_wanted/size_input)  #max_aantal/n_aanwezig\n",
    "    times = int(times)\n",
    "    \n",
    "    number_aug.append(times)\n",
    "number_aug"
   ]
  },
  {
   "cell_type": "code",
   "execution_count": null,
   "metadata": {},
   "outputs": [],
   "source": [
    "# check dataframe for each label - TEST\n",
    "number_aug=[]\n",
    "for lbl in labels:\n",
    "    lbl_list = []\n",
    "    lbl_list.append(lbl)\n",
    "    df_train_full_segmented_lbl = df_train_full_segmented[df_train_full_segmented['Label'].apply(lambda x: pd.Series(x.split('|')).isin(lbl_list).any())]\n",
    "    path_mt, path_nu, path_er, path_tp = get_img_id(df_train_full_segmented_lbl)\n",
    "    \n",
    "    size_wanted = 30000                         #max aantal per label.\n",
    "    size_input = len(path_mt)  #lengte van wat er al aanwezig is. \n",
    "    times = round_down(size_wanted/size_input)  #max_aantal/n_aanwezig\n",
    "    times = int(times)\n",
    "    \n",
    "    number_aug.append(times)\n",
    "number_aug"
   ]
  },
  {
   "cell_type": "markdown",
   "metadata": {},
   "source": [
    "## If only labels 11 and 15 would be augmented"
   ]
  },
  {
   "cell_type": "code",
   "execution_count": 9,
   "metadata": {},
   "outputs": [
    {
     "data": {
      "text/plain": [
       "{'0': 6990,\n",
       " '1': 0,\n",
       " '2': 355,\n",
       " '3': 0,\n",
       " '4': 0,\n",
       " '5': 1195,\n",
       " '6': 0,\n",
       " '7': 230,\n",
       " '8': 0,\n",
       " '9': 0,\n",
       " '10': 6035,\n",
       " '11': 23060,\n",
       " '12': 2025,\n",
       " '13': 2675,\n",
       " '14': 265,\n",
       " '15': 0,\n",
       " '16': 10840,\n",
       " '17': 1340,\n",
       " '18': 0}"
      ]
     },
     "execution_count": 9,
     "metadata": {},
     "output_type": "execute_result"
    }
   ],
   "source": [
    "wanted_labels11 = ['11'] \n",
    "df_wanted_labels11 = df_train_full_segmented[df_train_full_segmented['Label'].apply(lambda x: pd.Series(x.split('|')).isin(wanted_labels11).any())]\n",
    "\n",
    "wanted_labels_counts11 = {}\n",
    "for lbl in labels:\n",
    "    count=0\n",
    "    for i in df_wanted_labels11.index:\n",
    "        if lbl in df_wanted_labels11['Label'][i].split('|'): \n",
    "            count += 1 * df_wanted_labels11['n_cells'][i] * 5\n",
    "    wanted_labels_counts11[lbl] = count\n",
    "    \n",
    "wanted_labels_counts11"
   ]
  },
  {
   "cell_type": "code",
   "execution_count": 10,
   "metadata": {
    "scrolled": true
   },
   "outputs": [
    {
     "data": {
      "text/plain": [
       "{'0': 6582,\n",
       " '1': 105,\n",
       " '2': 777,\n",
       " '3': 261,\n",
       " '4': 318,\n",
       " '5': 1791,\n",
       " '6': 0,\n",
       " '7': 426,\n",
       " '8': 666,\n",
       " '9': 0,\n",
       " '10': 0,\n",
       " '11': 0,\n",
       " '12': 888,\n",
       " '13': 996,\n",
       " '14': 498,\n",
       " '15': 20361,\n",
       " '16': 4023,\n",
       " '17': 1341,\n",
       " '18': 0}"
      ]
     },
     "execution_count": 10,
     "metadata": {},
     "output_type": "execute_result"
    }
   ],
   "source": [
    "wanted_labels15 = ['15'] \n",
    "df_wanted_labels15 = df_train_full_segmented[df_train_full_segmented['Label'].apply(lambda x: pd.Series(x.split('|')).isin(wanted_labels15).any())]\n",
    "\n",
    "wanted_labels_counts15 = {}\n",
    "for lbl in labels:\n",
    "    count=0\n",
    "    for i in df_wanted_labels15.index:\n",
    "        if lbl in df_wanted_labels15['Label'][i].split('|'): \n",
    "            count += 1 * df_wanted_labels15['n_cells'][i] * 3\n",
    "    wanted_labels_counts15[lbl] = count\n",
    "    \n",
    "wanted_labels_counts15"
   ]
  },
  {
   "cell_type": "markdown",
   "metadata": {},
   "source": [
    "# Augumentation"
   ]
  },
  {
   "cell_type": "code",
   "execution_count": null,
   "metadata": {},
   "outputs": [],
   "source": [
    "\"\"\"import math\n",
    "def round_down(n, decimals=0):\n",
    "    multiplier = 10 ** decimals\n",
    "    return math.floor(n * multiplier) / multiplier\n",
    "number_aug = []\n",
    "\n",
    "for lbl in labels:\n",
    "    lbl_list = []\n",
    "    lbl_list.append(lbl)\n",
    "    df_train_full_segmented_lbl = df_train_full_segmented[df_train_full_segmented['Label'].apply(lambda x: pd.Series(x.split('|')).isin(lbl_list).any())]\n",
    "    path_mt, path_nu, path_er, path_tp = get_img_id(df_train_full_segmented_lbl)\n",
    "    \n",
    "    size_wanted = 30000                         #max aantal per label.\n",
    "    size_input = len(path_mt)  #lengte van wat er al aanwezig is. \n",
    "    times = round_down(size_wanted/size_input)  #max_aantal/n_aanwezig\n",
    "    times = int(times)\n",
    "    \n",
    "    number_aug.append(times)\n",
    "    for i in range(1,times+1):\n",
    "        for y in range(len(path_mt)): \n",
    "            augment(img_path, path_mt[y], path_nu[y], path_er[y], path_tp[y], i)\"\"\"\n"
   ]
  },
  {
   "cell_type": "code",
   "execution_count": null,
   "metadata": {},
   "outputs": [],
   "source": [
    "#augment label 11\n",
    "wanted_labels11 = ['11'] \n",
    "df_wanted_labels11 = df_train_full_segmented[df_train_full_segmented['Label'].apply(lambda x: pd.Series(x.split('|')).isin(wanted_labels11).any())]\n",
    "path_mt11, path_nu11, path_er11, path_tp11 = get_img_id(df_wanted_labels11)\n",
    "\n",
    "n_aug_11 = 6\n",
    "for i in range(1,n_aug_11+1):\n",
    "        for y in range(len(path_mt11)): \n",
    "            augment(img_path11, path_mt11[y], path_nu11[y], path_er11[y], path_tp11[y], i)\n",
    "\n"
   ]
  },
  {
   "cell_type": "code",
   "execution_count": 11,
   "metadata": {},
   "outputs": [
    {
     "data": {
      "text/html": [
       "<div>\n",
       "<style scoped>\n",
       "    .dataframe tbody tr th:only-of-type {\n",
       "        vertical-align: middle;\n",
       "    }\n",
       "\n",
       "    .dataframe tbody tr th {\n",
       "        vertical-align: top;\n",
       "    }\n",
       "\n",
       "    .dataframe thead th {\n",
       "        text-align: right;\n",
       "    }\n",
       "</style>\n",
       "<table border=\"1\" class=\"dataframe\">\n",
       "  <thead>\n",
       "    <tr style=\"text-align: right;\">\n",
       "      <th></th>\n",
       "      <th>Unnamed: 0</th>\n",
       "      <th>Unnamed: 0.1</th>\n",
       "      <th>ID</th>\n",
       "      <th>Label</th>\n",
       "      <th>n_cells</th>\n",
       "    </tr>\n",
       "  </thead>\n",
       "  <tbody>\n",
       "    <tr>\n",
       "      <th>0</th>\n",
       "      <td>10496</td>\n",
       "      <td>10497</td>\n",
       "      <td>8ac44d34-bbb1-11e8-b2ba-ac1f6b6435d0</td>\n",
       "      <td>14|0</td>\n",
       "      <td>15</td>\n",
       "    </tr>\n",
       "    <tr>\n",
       "      <th>1</th>\n",
       "      <td>17020</td>\n",
       "      <td>17021</td>\n",
       "      <td>09e1c1b0-bbc0-11e8-b2bb-ac1f6b6435d0</td>\n",
       "      <td>17</td>\n",
       "      <td>10</td>\n",
       "    </tr>\n",
       "    <tr>\n",
       "      <th>2</th>\n",
       "      <td>2361</td>\n",
       "      <td>2361</td>\n",
       "      <td>ece2a9e2-bb9e-11e8-b2b9-ac1f6b6435d0</td>\n",
       "      <td>14|0</td>\n",
       "      <td>12</td>\n",
       "    </tr>\n",
       "    <tr>\n",
       "      <th>3</th>\n",
       "      <td>1402</td>\n",
       "      <td>1402</td>\n",
       "      <td>87b625dc-bb9c-11e8-b2b9-ac1f6b6435d0</td>\n",
       "      <td>9</td>\n",
       "      <td>10</td>\n",
       "    </tr>\n",
       "    <tr>\n",
       "      <th>4</th>\n",
       "      <td>22854</td>\n",
       "      <td>23708</td>\n",
       "      <td>297_C7_2</td>\n",
       "      <td>6|16</td>\n",
       "      <td>18</td>\n",
       "    </tr>\n",
       "    <tr>\n",
       "      <th>...</th>\n",
       "      <td>...</td>\n",
       "      <td>...</td>\n",
       "      <td>...</td>\n",
       "      <td>...</td>\n",
       "      <td>...</td>\n",
       "    </tr>\n",
       "    <tr>\n",
       "      <th>23422</th>\n",
       "      <td>21575</td>\n",
       "      <td>21576</td>\n",
       "      <td>61d65b42-bbca-11e8-b2bc-ac1f6b6435d0</td>\n",
       "      <td>5</td>\n",
       "      <td>19</td>\n",
       "    </tr>\n",
       "    <tr>\n",
       "      <th>23423</th>\n",
       "      <td>5390</td>\n",
       "      <td>5391</td>\n",
       "      <td>38327d44-bba6-11e8-b2ba-ac1f6b6435d0</td>\n",
       "      <td>16|5</td>\n",
       "      <td>10</td>\n",
       "    </tr>\n",
       "    <tr>\n",
       "      <th>23424</th>\n",
       "      <td>860</td>\n",
       "      <td>860</td>\n",
       "      <td>39c9a9ee-bb9b-11e8-b2b9-ac1f6b6435d0</td>\n",
       "      <td>1</td>\n",
       "      <td>12</td>\n",
       "    </tr>\n",
       "    <tr>\n",
       "      <th>23425</th>\n",
       "      <td>15795</td>\n",
       "      <td>15796</td>\n",
       "      <td>72c52d32-bbbd-11e8-b2ba-ac1f6b6435d0</td>\n",
       "      <td>16|8</td>\n",
       "      <td>25</td>\n",
       "    </tr>\n",
       "    <tr>\n",
       "      <th>23426</th>\n",
       "      <td>23654</td>\n",
       "      <td>24644</td>\n",
       "      <td>443_D11_1</td>\n",
       "      <td>13|9</td>\n",
       "      <td>14</td>\n",
       "    </tr>\n",
       "  </tbody>\n",
       "</table>\n",
       "<p>23261 rows × 5 columns</p>\n",
       "</div>"
      ],
      "text/plain": [
       "       Unnamed: 0  Unnamed: 0.1                                    ID Label  \\\n",
       "0           10496         10497  8ac44d34-bbb1-11e8-b2ba-ac1f6b6435d0  14|0   \n",
       "1           17020         17021  09e1c1b0-bbc0-11e8-b2bb-ac1f6b6435d0    17   \n",
       "2            2361          2361  ece2a9e2-bb9e-11e8-b2b9-ac1f6b6435d0  14|0   \n",
       "3            1402          1402  87b625dc-bb9c-11e8-b2b9-ac1f6b6435d0     9   \n",
       "4           22854         23708                              297_C7_2  6|16   \n",
       "...           ...           ...                                   ...   ...   \n",
       "23422       21575         21576  61d65b42-bbca-11e8-b2bc-ac1f6b6435d0     5   \n",
       "23423        5390          5391  38327d44-bba6-11e8-b2ba-ac1f6b6435d0  16|5   \n",
       "23424         860           860  39c9a9ee-bb9b-11e8-b2b9-ac1f6b6435d0     1   \n",
       "23425       15795         15796  72c52d32-bbbd-11e8-b2ba-ac1f6b6435d0  16|8   \n",
       "23426       23654         24644                             443_D11_1  13|9   \n",
       "\n",
       "       n_cells  \n",
       "0           15  \n",
       "1           10  \n",
       "2           12  \n",
       "3           10  \n",
       "4           18  \n",
       "...        ...  \n",
       "23422       19  \n",
       "23423       10  \n",
       "23424       12  \n",
       "23425       25  \n",
       "23426       14  \n",
       "\n",
       "[23261 rows x 5 columns]"
      ]
     },
     "execution_count": 11,
     "metadata": {},
     "output_type": "execute_result"
    }
   ],
   "source": [
    "df_f_drop = df_train_full_segmented.copy()\n",
    "cond = df_f_drop['ID'].isin(df_wanted_labels11['ID'])\n",
    "df_f_drop.drop(df_f_drop[cond].index, inplace = True)\n",
    "df_f_drop"
   ]
  },
  {
   "cell_type": "code",
   "execution_count": 16,
   "metadata": {},
   "outputs": [
    {
     "name": "stdout",
     "output_type": "stream",
     "text": [
      "23261\n"
     ]
    }
   ],
   "source": [
    "#check df_f_drop\n",
    "print(len(df_train_full_segmented) - len(df_wanted_labels11))"
   ]
  },
  {
   "cell_type": "code",
   "execution_count": null,
   "metadata": {},
   "outputs": [],
   "source": [
    "# augment label 15\n",
    "wanted_labels15 = ['15'] \n",
    "df_wanted_labels15 = df_f_drop[df_f_drop['Label'].apply(lambda x: pd.Series(x.split('|')).isin(wanted_labels15).any())]\n",
    "path_mt15, path_nu15, path_er15, path_tp15 = get_img_id(df_wanted_labels15)\n",
    "\n",
    "n_aug_15 = 4\n",
    "for i in range(1,n_aug_15+1):\n",
    "        for y in range(len(path_mt15)): \n",
    "            augment(img_path15, path_mt15[y], path_nu15[y], path_er15[y], path_tp15[y], i)"
   ]
  },
  {
   "cell_type": "code",
   "execution_count": 17,
   "metadata": {},
   "outputs": [
    {
     "name": "stdout",
     "output_type": "stream",
     "text": [
      "272 166\n"
     ]
    }
   ],
   "source": [
    "print(len(df_wanted_labels15), len(df_wanted_labels11))"
   ]
  },
  {
   "cell_type": "markdown",
   "metadata": {},
   "source": [
    "# Make dataframe"
   ]
  },
  {
   "cell_type": "code",
   "execution_count": 12,
   "metadata": {},
   "outputs": [
    {
     "name": "stderr",
     "output_type": "stream",
     "text": [
      "<ipython-input-12-52849a76a70b>:2: SettingWithCopyWarning: \n",
      "A value is trying to be set on a copy of a slice from a DataFrame.\n",
      "Try using .loc[row_indexer,col_indexer] = value instead\n",
      "\n",
      "See the caveats in the documentation: https://pandas.pydata.org/pandas-docs/stable/user_guide/indexing.html#returning-a-view-versus-a-copy\n",
      "  df_wanted_labels11[\"n_aug\"] = int(6)\n",
      "<ipython-input-12-52849a76a70b>:3: SettingWithCopyWarning: \n",
      "A value is trying to be set on a copy of a slice from a DataFrame.\n",
      "Try using .loc[row_indexer,col_indexer] = value instead\n",
      "\n",
      "See the caveats in the documentation: https://pandas.pydata.org/pandas-docs/stable/user_guide/indexing.html#returning-a-view-versus-a-copy\n",
      "  df_wanted_labels15[\"n_aug\"] = int(4)\n"
     ]
    },
    {
     "data": {
      "text/html": [
       "<div>\n",
       "<style scoped>\n",
       "    .dataframe tbody tr th:only-of-type {\n",
       "        vertical-align: middle;\n",
       "    }\n",
       "\n",
       "    .dataframe tbody tr th {\n",
       "        vertical-align: top;\n",
       "    }\n",
       "\n",
       "    .dataframe thead th {\n",
       "        text-align: right;\n",
       "    }\n",
       "</style>\n",
       "<table border=\"1\" class=\"dataframe\">\n",
       "  <thead>\n",
       "    <tr style=\"text-align: right;\">\n",
       "      <th></th>\n",
       "      <th>Unnamed: 0</th>\n",
       "      <th>Unnamed: 0.1</th>\n",
       "      <th>ID</th>\n",
       "      <th>Label</th>\n",
       "      <th>n_cells</th>\n",
       "      <th>n_aug</th>\n",
       "    </tr>\n",
       "  </thead>\n",
       "  <tbody>\n",
       "    <tr>\n",
       "      <th>0</th>\n",
       "      <td>10496</td>\n",
       "      <td>10497</td>\n",
       "      <td>8ac44d34-bbb1-11e8-b2ba-ac1f6b6435d0</td>\n",
       "      <td>14|0</td>\n",
       "      <td>15</td>\n",
       "      <td>0</td>\n",
       "    </tr>\n",
       "    <tr>\n",
       "      <th>1</th>\n",
       "      <td>17020</td>\n",
       "      <td>17021</td>\n",
       "      <td>09e1c1b0-bbc0-11e8-b2bb-ac1f6b6435d0</td>\n",
       "      <td>17</td>\n",
       "      <td>10</td>\n",
       "      <td>0</td>\n",
       "    </tr>\n",
       "    <tr>\n",
       "      <th>2</th>\n",
       "      <td>2361</td>\n",
       "      <td>2361</td>\n",
       "      <td>ece2a9e2-bb9e-11e8-b2b9-ac1f6b6435d0</td>\n",
       "      <td>14|0</td>\n",
       "      <td>12</td>\n",
       "      <td>0</td>\n",
       "    </tr>\n",
       "    <tr>\n",
       "      <th>3</th>\n",
       "      <td>1402</td>\n",
       "      <td>1402</td>\n",
       "      <td>87b625dc-bb9c-11e8-b2b9-ac1f6b6435d0</td>\n",
       "      <td>9</td>\n",
       "      <td>10</td>\n",
       "      <td>0</td>\n",
       "    </tr>\n",
       "    <tr>\n",
       "      <th>4</th>\n",
       "      <td>22854</td>\n",
       "      <td>23708</td>\n",
       "      <td>297_C7_2</td>\n",
       "      <td>6|16</td>\n",
       "      <td>18</td>\n",
       "      <td>0</td>\n",
       "    </tr>\n",
       "    <tr>\n",
       "      <th>...</th>\n",
       "      <td>...</td>\n",
       "      <td>...</td>\n",
       "      <td>...</td>\n",
       "      <td>...</td>\n",
       "      <td>...</td>\n",
       "      <td>...</td>\n",
       "    </tr>\n",
       "    <tr>\n",
       "      <th>23422</th>\n",
       "      <td>21575</td>\n",
       "      <td>21576</td>\n",
       "      <td>61d65b42-bbca-11e8-b2bc-ac1f6b6435d0</td>\n",
       "      <td>5</td>\n",
       "      <td>19</td>\n",
       "      <td>0</td>\n",
       "    </tr>\n",
       "    <tr>\n",
       "      <th>23423</th>\n",
       "      <td>5390</td>\n",
       "      <td>5391</td>\n",
       "      <td>38327d44-bba6-11e8-b2ba-ac1f6b6435d0</td>\n",
       "      <td>16|5</td>\n",
       "      <td>10</td>\n",
       "      <td>0</td>\n",
       "    </tr>\n",
       "    <tr>\n",
       "      <th>23424</th>\n",
       "      <td>860</td>\n",
       "      <td>860</td>\n",
       "      <td>39c9a9ee-bb9b-11e8-b2b9-ac1f6b6435d0</td>\n",
       "      <td>1</td>\n",
       "      <td>12</td>\n",
       "      <td>0</td>\n",
       "    </tr>\n",
       "    <tr>\n",
       "      <th>23425</th>\n",
       "      <td>15795</td>\n",
       "      <td>15796</td>\n",
       "      <td>72c52d32-bbbd-11e8-b2ba-ac1f6b6435d0</td>\n",
       "      <td>16|8</td>\n",
       "      <td>25</td>\n",
       "      <td>0</td>\n",
       "    </tr>\n",
       "    <tr>\n",
       "      <th>23426</th>\n",
       "      <td>23654</td>\n",
       "      <td>24644</td>\n",
       "      <td>443_D11_1</td>\n",
       "      <td>13|9</td>\n",
       "      <td>14</td>\n",
       "      <td>0</td>\n",
       "    </tr>\n",
       "  </tbody>\n",
       "</table>\n",
       "<p>23427 rows × 6 columns</p>\n",
       "</div>"
      ],
      "text/plain": [
       "       Unnamed: 0  Unnamed: 0.1                                    ID Label  \\\n",
       "0           10496         10497  8ac44d34-bbb1-11e8-b2ba-ac1f6b6435d0  14|0   \n",
       "1           17020         17021  09e1c1b0-bbc0-11e8-b2bb-ac1f6b6435d0    17   \n",
       "2            2361          2361  ece2a9e2-bb9e-11e8-b2b9-ac1f6b6435d0  14|0   \n",
       "3            1402          1402  87b625dc-bb9c-11e8-b2b9-ac1f6b6435d0     9   \n",
       "4           22854         23708                              297_C7_2  6|16   \n",
       "...           ...           ...                                   ...   ...   \n",
       "23422       21575         21576  61d65b42-bbca-11e8-b2bc-ac1f6b6435d0     5   \n",
       "23423        5390          5391  38327d44-bba6-11e8-b2ba-ac1f6b6435d0  16|5   \n",
       "23424         860           860  39c9a9ee-bb9b-11e8-b2b9-ac1f6b6435d0     1   \n",
       "23425       15795         15796  72c52d32-bbbd-11e8-b2ba-ac1f6b6435d0  16|8   \n",
       "23426       23654         24644                             443_D11_1  13|9   \n",
       "\n",
       "       n_cells  n_aug  \n",
       "0           15      0  \n",
       "1           10      0  \n",
       "2           12      0  \n",
       "3           10      0  \n",
       "4           18      0  \n",
       "...        ...    ...  \n",
       "23422       19      0  \n",
       "23423       10      0  \n",
       "23424       12      0  \n",
       "23425       25      0  \n",
       "23426       14      0  \n",
       "\n",
       "[23427 rows x 6 columns]"
      ]
     },
     "execution_count": 12,
     "metadata": {},
     "output_type": "execute_result"
    }
   ],
   "source": [
    "#make dataframe\n",
    "df_wanted_labels11[\"n_aug\"] = int(6)\n",
    "df_wanted_labels15[\"n_aug\"] = int(4)\n",
    "\n",
    "\n",
    "df_aug =df_wanted_labels11.append(df_wanted_labels15, ignore_index=True)\n",
    "df= df_train_full_segmented.merge(df_aug[['ID','n_aug']], on ='ID', how='left')\n",
    "df['n_aug'] = df['n_aug'].fillna(0).astype(int)\n",
    "df"
   ]
  },
  {
   "cell_type": "code",
   "execution_count": 20,
   "metadata": {},
   "outputs": [
    {
     "data": {
      "text/html": [
       "<div>\n",
       "<style scoped>\n",
       "    .dataframe tbody tr th:only-of-type {\n",
       "        vertical-align: middle;\n",
       "    }\n",
       "\n",
       "    .dataframe tbody tr th {\n",
       "        vertical-align: top;\n",
       "    }\n",
       "\n",
       "    .dataframe thead th {\n",
       "        text-align: right;\n",
       "    }\n",
       "</style>\n",
       "<table border=\"1\" class=\"dataframe\">\n",
       "  <thead>\n",
       "    <tr style=\"text-align: right;\">\n",
       "      <th></th>\n",
       "      <th>Unnamed: 0</th>\n",
       "      <th>Unnamed: 0.1</th>\n",
       "      <th>ID</th>\n",
       "      <th>Label</th>\n",
       "      <th>n_cells</th>\n",
       "      <th>n_aug</th>\n",
       "    </tr>\n",
       "  </thead>\n",
       "  <tbody>\n",
       "    <tr>\n",
       "      <th>0</th>\n",
       "      <td>10496</td>\n",
       "      <td>10497</td>\n",
       "      <td>8ac44d34-bbb1-11e8-b2ba-ac1f6b6435d0</td>\n",
       "      <td>14|0</td>\n",
       "      <td>15</td>\n",
       "      <td>0.0</td>\n",
       "    </tr>\n",
       "    <tr>\n",
       "      <th>1</th>\n",
       "      <td>17020</td>\n",
       "      <td>17021</td>\n",
       "      <td>09e1c1b0-bbc0-11e8-b2bb-ac1f6b6435d0</td>\n",
       "      <td>17</td>\n",
       "      <td>10</td>\n",
       "      <td>0.0</td>\n",
       "    </tr>\n",
       "    <tr>\n",
       "      <th>2</th>\n",
       "      <td>2361</td>\n",
       "      <td>2361</td>\n",
       "      <td>ece2a9e2-bb9e-11e8-b2b9-ac1f6b6435d0</td>\n",
       "      <td>14|0</td>\n",
       "      <td>12</td>\n",
       "      <td>0.0</td>\n",
       "    </tr>\n",
       "    <tr>\n",
       "      <th>3</th>\n",
       "      <td>1402</td>\n",
       "      <td>1402</td>\n",
       "      <td>87b625dc-bb9c-11e8-b2b9-ac1f6b6435d0</td>\n",
       "      <td>9</td>\n",
       "      <td>10</td>\n",
       "      <td>0.0</td>\n",
       "    </tr>\n",
       "    <tr>\n",
       "      <th>4</th>\n",
       "      <td>22854</td>\n",
       "      <td>23708</td>\n",
       "      <td>297_C7_2</td>\n",
       "      <td>6|16</td>\n",
       "      <td>18</td>\n",
       "      <td>0.0</td>\n",
       "    </tr>\n",
       "    <tr>\n",
       "      <th>...</th>\n",
       "      <td>...</td>\n",
       "      <td>...</td>\n",
       "      <td>...</td>\n",
       "      <td>...</td>\n",
       "      <td>...</td>\n",
       "      <td>...</td>\n",
       "    </tr>\n",
       "    <tr>\n",
       "      <th>23422</th>\n",
       "      <td>21575</td>\n",
       "      <td>21576</td>\n",
       "      <td>61d65b42-bbca-11e8-b2bc-ac1f6b6435d0</td>\n",
       "      <td>5</td>\n",
       "      <td>19</td>\n",
       "      <td>0.0</td>\n",
       "    </tr>\n",
       "    <tr>\n",
       "      <th>23423</th>\n",
       "      <td>5390</td>\n",
       "      <td>5391</td>\n",
       "      <td>38327d44-bba6-11e8-b2ba-ac1f6b6435d0</td>\n",
       "      <td>16|5</td>\n",
       "      <td>10</td>\n",
       "      <td>0.0</td>\n",
       "    </tr>\n",
       "    <tr>\n",
       "      <th>23424</th>\n",
       "      <td>860</td>\n",
       "      <td>860</td>\n",
       "      <td>39c9a9ee-bb9b-11e8-b2b9-ac1f6b6435d0</td>\n",
       "      <td>1</td>\n",
       "      <td>12</td>\n",
       "      <td>0.0</td>\n",
       "    </tr>\n",
       "    <tr>\n",
       "      <th>23425</th>\n",
       "      <td>15795</td>\n",
       "      <td>15796</td>\n",
       "      <td>72c52d32-bbbd-11e8-b2ba-ac1f6b6435d0</td>\n",
       "      <td>16|8</td>\n",
       "      <td>25</td>\n",
       "      <td>0.0</td>\n",
       "    </tr>\n",
       "    <tr>\n",
       "      <th>23426</th>\n",
       "      <td>23654</td>\n",
       "      <td>24644</td>\n",
       "      <td>443_D11_1</td>\n",
       "      <td>13|9</td>\n",
       "      <td>14</td>\n",
       "      <td>0.0</td>\n",
       "    </tr>\n",
       "  </tbody>\n",
       "</table>\n",
       "<p>23427 rows × 6 columns</p>\n",
       "</div>"
      ],
      "text/plain": [
       "       Unnamed: 0  Unnamed: 0.1                                    ID Label  \\\n",
       "0           10496         10497  8ac44d34-bbb1-11e8-b2ba-ac1f6b6435d0  14|0   \n",
       "1           17020         17021  09e1c1b0-bbc0-11e8-b2bb-ac1f6b6435d0    17   \n",
       "2            2361          2361  ece2a9e2-bb9e-11e8-b2b9-ac1f6b6435d0  14|0   \n",
       "3            1402          1402  87b625dc-bb9c-11e8-b2b9-ac1f6b6435d0     9   \n",
       "4           22854         23708                              297_C7_2  6|16   \n",
       "...           ...           ...                                   ...   ...   \n",
       "23422       21575         21576  61d65b42-bbca-11e8-b2bc-ac1f6b6435d0     5   \n",
       "23423        5390          5391  38327d44-bba6-11e8-b2ba-ac1f6b6435d0  16|5   \n",
       "23424         860           860  39c9a9ee-bb9b-11e8-b2b9-ac1f6b6435d0     1   \n",
       "23425       15795         15796  72c52d32-bbbd-11e8-b2ba-ac1f6b6435d0  16|8   \n",
       "23426       23654         24644                             443_D11_1  13|9   \n",
       "\n",
       "       n_cells  n_aug  \n",
       "0           15    0.0  \n",
       "1           10    0.0  \n",
       "2           12    0.0  \n",
       "3           10    0.0  \n",
       "4           18    0.0  \n",
       "...        ...    ...  \n",
       "23422       19    0.0  \n",
       "23423       10    0.0  \n",
       "23424       12    0.0  \n",
       "23425       25    0.0  \n",
       "23426       14    0.0  \n",
       "\n",
       "[23427 rows x 6 columns]"
      ]
     },
     "execution_count": 20,
     "metadata": {},
     "output_type": "execute_result"
    }
   ],
   "source": [
    "df"
   ]
  },
  {
   "cell_type": "code",
   "execution_count": 14,
   "metadata": {},
   "outputs": [],
   "source": [
    "df.to_csv(\"/media/beta/mitko-beps/mandy/train_full_aug.csv\")"
   ]
  },
  {
   "cell_type": "markdown",
   "metadata": {},
   "source": [
    "# --------------------------------------------------------------"
   ]
  },
  {
   "cell_type": "code",
   "execution_count": null,
   "metadata": {},
   "outputs": [],
   "source": []
  },
  {
   "cell_type": "code",
   "execution_count": 49,
   "metadata": {},
   "outputs": [
    {
     "data": {
      "image/png": "[encoded data removed]",
      "text/plain": [
       "<Figure size 1080x360 with 1 Axes>"
      ]
     },
     "metadata": {
      "needs_background": "light"
     },
     "output_type": "display_data"
    }
   ],
   "source": [
    "#Total labels from wanted_labels + train labels\n",
    "total_full_counts = {}\n",
    "for i in range(0, len(labels)):\n",
    "    total_full_counts[labels[i]] = list(wanted_labels_counts.values())[i] + list(full_counts.values())[i] + list(wanted_labels_counts11.values())[i] \n",
    "total_full_counts\n",
    "\n",
    "plt.figure(figsize=(15,5))\n",
    "plt.bar(labels, total_full_counts.values())\n",
    "\n",
    "for index, value in enumerate(total_full_counts.values()):\n",
    "    plt.text(index-0.25, value, str(value), fontdict=dict(fontsize=10))\n",
    "\n",
    "plt.title('Train-data full count distribution')\n",
    "plt.xticks(np.arange(len(labels)), labels, rotation=85)\n",
    "plt.show()\n"
   ]
  },
  {
   "cell_type": "code",
   "execution_count": null,
   "metadata": {},
   "outputs": [],
   "source": []
  },
  {
   "cell_type": "code",
   "execution_count": null,
   "metadata": {},
   "outputs": [],
   "source": []
  },
  {
   "cell_type": "code",
   "execution_count": 79,
   "metadata": {},
   "outputs": [],
   "source": []
  },
  {
   "cell_type": "code",
   "execution_count": null,
   "metadata": {},
   "outputs": [],
   "source": []
  },
  {
   "cell_type": "code",
   "execution_count": null,
   "metadata": {},
   "outputs": [],
   "source": []
  },
  {
   "cell_type": "code",
   "execution_count": null,
   "metadata": {},
   "outputs": [],
   "source": []
  },
  {
   "cell_type": "code",
   "execution_count": null,
   "metadata": {},
   "outputs": [],
   "source": []
  },
  {
   "cell_type": "code",
   "execution_count": null,
   "metadata": {},
   "outputs": [],
   "source": []
  },
  {
   "cell_type": "code",
   "execution_count": null,
   "metadata": {},
   "outputs": [],
   "source": []
  },
  {
   "cell_type": "code",
   "execution_count": null,
   "metadata": {},
   "outputs": [],
   "source": []
  },
  {
   "cell_type": "code",
   "execution_count": null,
   "metadata": {},
   "outputs": [],
   "source": []
  },
  {
   "cell_type": "code",
   "execution_count": null,
   "metadata": {},
   "outputs": [],
   "source": []
  }
 ],
 "metadata": {
  "kernelspec": {
   "display_name": "Python 3",
   "language": "python",
   "name": "python3"
  },
  "language_info": {
   "codemirror_mode": {
    "name": "ipython",
    "version": 3
   },
   "file_extension": ".py",
   "mimetype": "text/x-python",
   "name": "python",
   "nbconvert_exporter": "python",
   "pygments_lexer": "ipython3",
   "version": "3.8.5"
  }
 },
 "nbformat": 4,
 "nbformat_minor": 4
}
